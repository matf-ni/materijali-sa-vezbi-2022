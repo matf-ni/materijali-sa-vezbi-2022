{
 "cells": [
  {
   "cell_type": "markdown",
   "metadata": {},
   "source": [
    "# Matplotlib biblioteka"
   ]
  },
  {
   "cell_type": "markdown",
   "metadata": {},
   "source": [
    "**Matplotlib** je Python biblioteka koja se koristi za 2D i 3D grafiku, kreiranje interaktivnih vizuelizacija i rad sa slikama. Na [ovom](https://matplotlib.org/) linku se nalazi zvanična stranica biblioteke, a [ovde](https://matplotlib.org/users/tutorials.html) možete pronaći koristan tutorijal."
   ]
  },
  {
   "cell_type": "markdown",
   "metadata": {},
   "source": [
    "Primeri koji slede imaju za cilj upoznavanje sa osnovnim funkcijama za kreiranje grafika, njihovo stilizovanje i anotaciju."
   ]
  },
  {
   "cell_type": "code",
   "execution_count": 1,
   "metadata": {},
   "outputs": [],
   "source": [
    "import numpy as np\n",
    "import matplotlib.pyplot as plt"
   ]
  },
  {
   "cell_type": "markdown",
   "metadata": {},
   "source": [
    "### Primer 1. \n",
    "\n",
    "Potrebno je nacrtati grafik funkcije $y = sin(x)$ na ekvidistantnoj mreži od $100$ tačaka iz intervala od $[1, 10]$. "
   ]
  },
  {
   "cell_type": "code",
   "execution_count": null,
   "metadata": {},
   "outputs": [],
   "source": []
  },
  {
   "cell_type": "code",
   "execution_count": null,
   "metadata": {},
   "outputs": [],
   "source": []
  },
  {
   "cell_type": "code",
   "execution_count": null,
   "metadata": {},
   "outputs": [],
   "source": []
  },
  {
   "cell_type": "code",
   "execution_count": null,
   "metadata": {},
   "outputs": [],
   "source": []
  },
  {
   "cell_type": "markdown",
   "metadata": {},
   "source": [
    "### Primer 2.\n",
    "\n",
    "Potrebno je nacrtati grafike funkcija $y = \\sin (x)$ i $y = \\cos (x)$ na intervalu $[-\\pi, \\pi]$. "
   ]
  },
  {
   "cell_type": "code",
   "execution_count": null,
   "metadata": {},
   "outputs": [],
   "source": []
  },
  {
   "cell_type": "code",
   "execution_count": null,
   "metadata": {},
   "outputs": [],
   "source": []
  },
  {
   "cell_type": "code",
   "execution_count": null,
   "metadata": {},
   "outputs": [],
   "source": []
  },
  {
   "cell_type": "code",
   "execution_count": null,
   "metadata": {},
   "outputs": [],
   "source": []
  },
  {
   "cell_type": "markdown",
   "metadata": {},
   "source": [
    "### Primer 3. \n",
    "\n",
    "U primeru koji sledi nacrtaćemo grafik funkcije $y = \\sin(x)$ na intervalu $[-2\\pi, 2\\pi]$ sa podešavanjima stila linija i podeoka osa. "
   ]
  },
  {
   "cell_type": "code",
   "execution_count": null,
   "metadata": {},
   "outputs": [],
   "source": []
  },
  {
   "cell_type": "code",
   "execution_count": null,
   "metadata": {},
   "outputs": [],
   "source": []
  },
  {
   "cell_type": "code",
   "execution_count": null,
   "metadata": {},
   "outputs": [],
   "source": []
  },
  {
   "cell_type": "code",
   "execution_count": null,
   "metadata": {},
   "outputs": [],
   "source": []
  },
  {
   "cell_type": "markdown",
   "metadata": {},
   "source": [
    "### Primer 4.  Pitica.\n",
    "\n",
    "Često je numeričke podatke potrebno prikazati i u formi pitica koje ukazuju na jasnu brojnost određenih grupa podataka. Sledeći primer ilustruje kako se može nacrtati pitica sa obeležjima. Pratićemo tri programska jezika i njihovu zastupljenost u jednoj anketi i koristićemo funkciju `pie` sa parametrima za podešavanje boje i labele."
   ]
  },
  {
   "cell_type": "code",
   "execution_count": null,
   "metadata": {},
   "outputs": [],
   "source": []
  },
  {
   "cell_type": "code",
   "execution_count": null,
   "metadata": {},
   "outputs": [],
   "source": []
  },
  {
   "cell_type": "code",
   "execution_count": null,
   "metadata": {},
   "outputs": [],
   "source": []
  },
  {
   "cell_type": "code",
   "execution_count": null,
   "metadata": {},
   "outputs": [],
   "source": []
  },
  {
   "cell_type": "markdown",
   "metadata": {},
   "source": [
    "### Primer 5.  Toplotna mapa. \n",
    "\n",
    "Prikaz podataka u formi toplotne mape će značiti za vizuelizaciju trojki podataka (npr. prikaz jačine zvuka u zavisnosti od vremenske i frekvencijske komponente) ili za vizuelizaciju jačina korelacija između atributa.  "
   ]
  },
  {
   "cell_type": "code",
   "execution_count": null,
   "metadata": {},
   "outputs": [],
   "source": []
  },
  {
   "cell_type": "code",
   "execution_count": null,
   "metadata": {},
   "outputs": [],
   "source": []
  },
  {
   "cell_type": "code",
   "execution_count": null,
   "metadata": {},
   "outputs": [],
   "source": []
  },
  {
   "cell_type": "code",
   "execution_count": null,
   "metadata": {},
   "outputs": [],
   "source": []
  },
  {
   "cell_type": "markdown",
   "metadata": {},
   "source": [
    "### Primer 6. Stubići. \n",
    "\n",
    "Stubičaste grafikone ćemo često koristiti u radu sa kategoričkim vrednostima. Sledeći primer ilustruje prikaz imena osoba i njihovih godina. Za prikaz grafikona sa vertikalnim stubićima može se koristiti funkcija `bar`, dok se za prikaz grafikona sa horizontalnim stubićima može koristiti funkcija `barh`. "
   ]
  },
  {
   "cell_type": "code",
   "execution_count": null,
   "metadata": {},
   "outputs": [],
   "source": []
  },
  {
   "cell_type": "code",
   "execution_count": null,
   "metadata": {},
   "outputs": [],
   "source": []
  },
  {
   "cell_type": "code",
   "execution_count": null,
   "metadata": {},
   "outputs": [],
   "source": []
  },
  {
   "cell_type": "code",
   "execution_count": null,
   "metadata": {},
   "outputs": [],
   "source": []
  },
  {
   "cell_type": "markdown",
   "metadata": {},
   "source": [
    "### Primer 7.  Tačkasti grafikoni. \n",
    "\n",
    "Tačkaste grafikone često koristimo za uvid u zavisnosti među podacima. U primeru koji sledi kreiraćemo dva niza celih brojeva iz intervala [0, 20] i prikazati ih u vidu tačkastog grafikona uz podešavanje boja tačaka parametrom `color` i simbola za prikaz parametrom `marker`."
   ]
  },
  {
   "cell_type": "code",
   "execution_count": null,
   "metadata": {},
   "outputs": [],
   "source": []
  },
  {
   "cell_type": "code",
   "execution_count": null,
   "metadata": {},
   "outputs": [],
   "source": []
  },
  {
   "cell_type": "code",
   "execution_count": null,
   "metadata": {},
   "outputs": [],
   "source": []
  },
  {
   "cell_type": "code",
   "execution_count": null,
   "metadata": {},
   "outputs": [],
   "source": []
  }
 ],
 "metadata": {
  "kernelspec": {
   "display_name": "Python 3",
   "language": "python",
   "name": "python3"
  },
  "language_info": {
   "codemirror_mode": {
    "name": "ipython",
    "version": 3
   },
   "file_extension": ".py",
   "mimetype": "text/x-python",
   "name": "python",
   "nbconvert_exporter": "python",
   "pygments_lexer": "ipython3",
   "version": "3.7.6"
  }
 },
 "nbformat": 4,
 "nbformat_minor": 2
}
