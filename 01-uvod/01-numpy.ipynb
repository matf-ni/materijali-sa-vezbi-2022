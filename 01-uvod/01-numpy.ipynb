{
 "cells": [
  {
   "cell_type": "markdown",
   "metadata": {},
   "source": [
    "# NumPy biblioteka"
   ]
  },
  {
   "cell_type": "markdown",
   "metadata": {},
   "source": [
    "**NumPy** je Python biblioteka koja se koristi za naučna izračunavanja. Njome je definisan rad sa višedimenzionalnim nizovima, kao i brojnim matematičkim operacijama koje se mogu primeniti nad njima. Samo čuvanje podataka i izvršavanje operacija je optimizovano kako bi programi bili što efikasniji i brži. Na [ovom](http://www.numpy.org/) linku se nalazi zvanična stranica biblioteke sa mnogim korisnim informacijama, a [ovde](https://docs.scipy.org/doc/numpy/user/quickstart.html) se može pronaći koristan uvodni tutorijal. "
   ]
  },
  {
   "cell_type": "code",
   "execution_count": 1,
   "metadata": {},
   "outputs": [],
   "source": [
    "import numpy as np"
   ]
  },
  {
   "cell_type": "markdown",
   "metadata": {},
   "source": [
    "Sledeći zadaci ilustruju neke od mogućnosti NumPy bibloteke."
   ]
  },
  {
   "cell_type": "code",
   "execution_count": null,
   "metadata": {},
   "outputs": [],
   "source": []
  }
 ],
 "metadata": {
  "kernelspec": {
   "display_name": "Python 3",
   "language": "python",
   "name": "python3"
  },
  "language_info": {
   "codemirror_mode": {
    "name": "ipython",
    "version": 3
   },
   "file_extension": ".py",
   "mimetype": "text/x-python",
   "name": "python",
   "nbconvert_exporter": "python",
   "pygments_lexer": "ipython3",
   "version": "3.7.6"
  }
 },
 "nbformat": 4,
 "nbformat_minor": 2
}
