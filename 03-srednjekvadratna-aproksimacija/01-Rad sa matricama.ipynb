{
 "cells": [
  {
   "cell_type": "markdown",
   "metadata": {},
   "source": [
    "# Rad sa matricama"
   ]
  },
  {
   "cell_type": "markdown",
   "metadata": {},
   "source": [
    "Kao što smo videli, višedimenzioni nizovi predstavljaju osnovnu strukturu podataka biblioteke `numpy`. Paket `numpy.linalg` specifično podržava razne algebarske funkcionalnosti u radu sa matricama, među kojima su nalaženje determinante matrice, njenog inverza, sopstvenih vektora i sopstvenih vrednosti, normi, uslovljenosti i drugih.  "
   ]
  },
  {
   "cell_type": "code",
   "execution_count": 1,
   "metadata": {},
   "outputs": [],
   "source": [
    "import numpy as np\n",
    "from numpy import linalg as LA"
   ]
  },
  {
   "cell_type": "markdown",
   "metadata": {},
   "source": [
    "Za demonstraciju funkcija `numpy.linalg` paketa, kreiraćemo kvadratnu matricu \n",
    "$A = \\begin{bmatrix}\n",
    "    1 & 2 & 4 \\\\\n",
    "    -5 & 7 & 2 \\\\\n",
    "    5 & 1 & 9\n",
    "\\end{bmatrix}$."
   ]
  },
  {
   "cell_type": "code",
   "execution_count": 2,
   "metadata": {},
   "outputs": [],
   "source": [
    "A = np.array([\n",
    "    [1, 2, 4],\n",
    "    [-5, 7, 2],\n",
    "    [5, 1, 9]\n",
    "])"
   ]
  },
  {
   "cell_type": "code",
   "execution_count": 3,
   "metadata": {},
   "outputs": [
    {
     "data": {
      "text/plain": [
       "array([[ 1,  2,  4],\n",
       "       [-5,  7,  2],\n",
       "       [ 5,  1,  9]])"
      ]
     },
     "execution_count": 3,
     "metadata": {},
     "output_type": "execute_result"
    }
   ],
   "source": [
    "A"
   ]
  },
  {
   "cell_type": "code",
   "execution_count": null,
   "metadata": {},
   "outputs": [],
   "source": []
  },
  {
   "cell_type": "markdown",
   "metadata": {},
   "source": [
    "`Determinanta` matrice se može definisati rekurzivno. Tako za matrice reda $2 \\times 2$, $3 \\times 3$ i $4 \\times 4$, važi \n",
    "\n",
    "* $\\begin{vmatrix}a_{11}&a_{12}\\\\a_{21}&a_{22}\\end{vmatrix} = a_{11}a_{22}-a_{12}a_{21},$\n",
    "* $\\begin{vmatrix}a_{11}&a_{12}&a_{13}\\\\a_{21}&a_{22}&a_{23}\\\\a_{31}&a_{32}&a_{33}\\end{vmatrix} = a_{11}\\begin{vmatrix}a_{22}&a_{23}\\\\a_{32}&a_{33}\\end{vmatrix} - a_{12}\\begin{vmatrix}a_{21}&a_{23}\\\\a_{31}&a_{33}\\end{vmatrix} + a_{13}\\begin{vmatrix}a_{21}&a_{22}\\\\a_{31}&a_{32}\\end{vmatrix},$ \n",
    "* $\\begin{vmatrix}a_{11}&a_{12}&a_{13}&a_{14}\\\\a_{21}&a_{22}&a_{23}&a_{24}\\\\a_{31}&a_{32}&a_{33}&a_{34}\\\\a_{41}&a_{42}&a_{43}&a_{44}\\end{vmatrix} = a_{11} \\begin{vmatrix}a_{22}&a_{23}&a_{24}\\\\a_{32}&a_{33}&a_{34}\\\\a_{42}&a_{43}&a_{44}\\end{vmatrix} - a_{12} \\begin{vmatrix}a_{21}&a_{23}&a_{24}\\\\a_{31}&a_{33}&a_{34}\\\\a_{41}&a_{43}&a_{44}\\end{vmatrix} + a_{13}\n",
    "\\begin{vmatrix}a_{21}&a_{22}&a_{24}\\\\a_{31}&a_{32}&a_{34}\\\\a_{41}&a_{42}&a_{44}\\end{vmatrix} - a_{14} \\begin{vmatrix}a_{21}&a_{22}&a_{23}\\\\a_{31}&a_{32}&a_{33}\\\\a_{41}&a_{42}&a_{43}\\end{vmatrix}.$\n",
    "\n",
    "Svaki sabirak u izrazu za izračunavanje determinante predstavlja proizvod jednog elementa matrice i determinante matrice koja se dobija od polazne uklanjanjem reda i kolone kojima pripada taj element. Za razlaganje se mogu odabrati svi elementi proizvoljne vrste ili kolone. U našem slučaju su uzeti elementi prve vrste. Svaki drugi sabirak u izrazu treba da bude pomnožen sa $-1$. \n",
    "\n",
    "Ova definicija se lako može uopštiti i na matrice većeg reda.\n",
    "\n",
    "Za uočenu matricu $A$, vrednost determinante se može interpretirati kao mera skaliranja i promene orijentacije preslikavanja određenog matricom $A$."
   ]
  },
  {
   "cell_type": "code",
   "execution_count": null,
   "metadata": {},
   "outputs": [],
   "source": []
  },
  {
   "cell_type": "markdown",
   "metadata": {},
   "source": [
    "Za računanje determinante matrice koristimo funkciju `det`:"
   ]
  },
  {
   "cell_type": "code",
   "execution_count": 4,
   "metadata": {},
   "outputs": [
    {
     "data": {
      "text/plain": [
       "10.999999999999972"
      ]
     },
     "execution_count": 4,
     "metadata": {},
     "output_type": "execute_result"
    }
   ],
   "source": [
    "LA.det(A)"
   ]
  },
  {
   "cell_type": "code",
   "execution_count": null,
   "metadata": {},
   "outputs": [],
   "source": []
  },
  {
   "cell_type": "code",
   "execution_count": null,
   "metadata": {},
   "outputs": [],
   "source": []
  },
  {
   "cell_type": "markdown",
   "metadata": {},
   "source": [
    "Ukoliko je determinanta kvadratne matrice $A$ različita od nule, postoji njen `inverz` tj. matrica $A^{-1}$ za koji važi $AA^{-1}=I$, gde je $I$ jedinična matrica."
   ]
  },
  {
   "cell_type": "markdown",
   "metadata": {},
   "source": [
    "Za računanje inverza matrice koristimo funkciju `inv`:"
   ]
  },
  {
   "cell_type": "code",
   "execution_count": 5,
   "metadata": {},
   "outputs": [
    {
     "data": {
      "text/plain": [
       "array([[ 5.54545455, -1.27272727, -2.18181818],\n",
       "       [ 5.        , -1.        , -2.        ],\n",
       "       [-3.63636364,  0.81818182,  1.54545455]])"
      ]
     },
     "execution_count": 5,
     "metadata": {},
     "output_type": "execute_result"
    }
   ],
   "source": [
    "LA.inv(A)"
   ]
  },
  {
   "cell_type": "code",
   "execution_count": null,
   "metadata": {},
   "outputs": [],
   "source": []
  },
  {
   "cell_type": "code",
   "execution_count": null,
   "metadata": {},
   "outputs": [],
   "source": []
  },
  {
   "cell_type": "markdown",
   "metadata": {},
   "source": [
    "Za matrice čija je determinanta jednaka nuli kažemo da su `singularne` matrice."
   ]
  },
  {
   "cell_type": "code",
   "execution_count": null,
   "metadata": {},
   "outputs": [],
   "source": []
  },
  {
   "cell_type": "markdown",
   "metadata": {},
   "source": [
    "Ako za neki realan vektor $x$ važi $Ax = \\lambda x$, gde je $\\lambda$ skalar, vektor $x$ se naziva `sopstveni vektor`, a $\\lambda$ `sopstvena vrednost` matrice $A$. "
   ]
  },
  {
   "cell_type": "markdown",
   "metadata": {},
   "source": [
    "<img src='assets/eigenvectors.gif'>"
   ]
  },
  {
   "cell_type": "markdown",
   "metadata": {},
   "source": [
    "Intuitivno, sopstveni vektori su vektori koji u matričnim transformacijama ne menjaju svoj pravac. Sopstvene vrednosti reflektuju promenu njihovog intenziteta i smera. "
   ]
  },
  {
   "cell_type": "markdown",
   "metadata": {},
   "source": [
    "U opštem slučaju sopstvene vrednosti se dobijaju kao nule jednačine $det(A-\\lambda I)=0$, takozvanog karakterističnog polinoma. Nešto kasnije na kursu ćemo upoznati metode stepenovanja i iscrpljivanja za dobijanje sopstvenih vrednosti. Na nivou biblioteke nam je na raspolaganju funkcija `eig` koja izračunava sopstvene vrednosti i normirane sopstvene vektore. "
   ]
  },
  {
   "cell_type": "code",
   "execution_count": 6,
   "metadata": {},
   "outputs": [],
   "source": [
    "values, vectors = LA.eig(A)"
   ]
  },
  {
   "cell_type": "code",
   "execution_count": 7,
   "metadata": {},
   "outputs": [
    {
     "data": {
      "text/plain": [
       "array([ 0.17157288,  5.82842712, 11.        ])"
      ]
     },
     "execution_count": 7,
     "metadata": {},
     "output_type": "execute_result"
    }
   ],
   "source": [
    "values"
   ]
  },
  {
   "cell_type": "code",
   "execution_count": 8,
   "metadata": {},
   "outputs": [
    {
     "data": {
      "text/plain": [
       "array([[ 6.57393413e-01, -6.10635274e-02,  3.71390676e-01],\n",
       "       [ 6.10673901e-01, -9.20292562e-01,  7.22840190e-16],\n",
       "       [-4.41487584e-01,  3.86436083e-01,  9.28476691e-01]])"
      ]
     },
     "execution_count": 8,
     "metadata": {},
     "output_type": "execute_result"
    }
   ],
   "source": [
    "vectors"
   ]
  },
  {
   "cell_type": "code",
   "execution_count": null,
   "metadata": {},
   "outputs": [],
   "source": []
  },
  {
   "cell_type": "markdown",
   "metadata": {},
   "source": [
    "**Norma** matrice $A$ je nenegativan broj $||A||$ za koji važi: \n",
    "\n",
    "* $||A|| \\ge 0$\n",
    "* $||A|| = 0$ ako i samo ako je $A = 0$,\n",
    "* $||kA|| = |k|\\cdot||A||$, za $k$ koje pripada prostoru skalara\n",
    "* $||A+B||\\le||A||+||B||$,\n",
    "\n",
    "Među najpoznatijim normama su matrična `1-norma`, matrična `2-norma`, matrična $\\infty$`-norma` i `Frobeniusova` norma.\n",
    "\n",
    "* **Matrična 1-norma** predstavlja maksimalni zbir sume apsolutnih vrednosti elemenata u svakoj koloni i definisana je sa $||A||_1 = \\max_j \\sum_i |a_{ij}|$.\n",
    "\n",
    "* **Matrična 2-norma** je jednaka korenu najveće sopstvene vrednosti matrice $A^TA$ i definisana je sa $||A||_2 = \\sqrt{\\lambda_{max} (A^TA)}$. U slučaju kompleksne matrice, umesto transponovane, koristi se [konjugovana transponovana matrica](http://mathworld.wolfram.com/ConjugateTranspose.html).\n",
    "\n",
    "* **Frobeniusova norma** predstavlja koren sume apsolutnih vrednosti svih elemenata matrice i definisana je sa $||A||_F = \\sqrt{\\sum_i \\sum_j |a_{ij}|^2}$. Važi $||A||_2 \\le ||A||_F \\le \\sqrt{r} \\cdot ||A||_2$, gde je $r$ rang matrice $A$.\n",
    "\n",
    "* **Matrična $\\infty$-norma** predstavlja maksimalni zbir sume apsolutnih vrednosti elemenata u svakom redu i definisana je sa $||A||_{\\infty} = \\max_i \\sum_j |a_{ij}|$."
   ]
  },
  {
   "cell_type": "code",
   "execution_count": null,
   "metadata": {},
   "outputs": [],
   "source": []
  },
  {
   "cell_type": "markdown",
   "metadata": {},
   "source": [
    "Za računanje norme koristićemo funkciju `norm`, a njenim parametrom `ord` naglašavaćemo o kojoj normi je reč."
   ]
  },
  {
   "cell_type": "code",
   "execution_count": 9,
   "metadata": {},
   "outputs": [
    {
     "data": {
      "text/plain": [
       "15.0"
      ]
     },
     "execution_count": 9,
     "metadata": {},
     "output_type": "execute_result"
    }
   ],
   "source": [
    "LA.norm(A, ord=1)"
   ]
  },
  {
   "cell_type": "code",
   "execution_count": 10,
   "metadata": {},
   "outputs": [
    {
     "data": {
      "text/plain": [
       "15.0"
      ]
     },
     "execution_count": 10,
     "metadata": {},
     "output_type": "execute_result"
    }
   ],
   "source": [
    "LA.norm(A, ord=np.inf)"
   ]
  },
  {
   "cell_type": "code",
   "execution_count": 11,
   "metadata": {},
   "outputs": [
    {
     "data": {
      "text/plain": [
       "14.352700094407323"
      ]
     },
     "execution_count": 11,
     "metadata": {},
     "output_type": "execute_result"
    }
   ],
   "source": [
    "LA.norm(A, ord='fro')"
   ]
  },
  {
   "cell_type": "code",
   "execution_count": null,
   "metadata": {},
   "outputs": [],
   "source": []
  },
  {
   "cell_type": "markdown",
   "metadata": {},
   "source": [
    "U prostoru konačne dimenzije ($R^n$ ili $R^{nxm}$ su slučajevi koje razmatramo) sve norme su međusobno ekvivalentne. To znači da za dve norme $\\|\\|_{n1}$ i $\\|\\|_{n2}$ postoje pozitivne realne konstante $c_1$ i $c_2$ takve da je $c_1\\cdot\\|x\\|_{n1}\\leq \\|x\\|_{n2} \\leq c_2\\cdot\\|x\\|_{n1}$  "
   ]
  },
  {
   "cell_type": "code",
   "execution_count": null,
   "metadata": {},
   "outputs": [],
   "source": []
  },
  {
   "cell_type": "markdown",
   "metadata": {},
   "source": [
    "U opštem slučaju, norma matrice **indukovana** normom vektora $||\\cdot||_a$ se definiše kao $||A||_a = max_{||x||_a=1}||Ax||_a = max_{||x||_a \\neq 0} \\frac{||Ax||_a}{||x||_a}$."
   ]
  },
  {
   "cell_type": "markdown",
   "metadata": {},
   "source": [
    "<img src='assets/induced_matrix_norm.png'>\n"
   ]
  },
  {
   "cell_type": "markdown",
   "metadata": {},
   "source": [
    "Intuitivno ovako definisanu normu matrice možemo interpretirati kao vrednost radijusa kruga tj. hipersfere koja sadrži sva preslikavanja polaznih jediničnih vektora. Na ovaj način se steče predstava i o gornjim ograničenjima očekivanih transformacija polaznih vektora. "
   ]
  },
  {
   "cell_type": "code",
   "execution_count": null,
   "metadata": {},
   "outputs": [],
   "source": []
  },
  {
   "cell_type": "markdown",
   "metadata": {},
   "source": [
    "`Kondicioni broj` $\\kappa(A)$ kvadratne invertibilne matrice $A$ je numerička vrednost koja se definiše sa $\\kappa(A) = ||A||\\cdot||A^{-1}||$. Ukoliko matrica $A$ nije invirtibilna, tada je $\\kappa(A) = \\infty$. "
   ]
  },
  {
   "cell_type": "markdown",
   "metadata": {},
   "source": [
    "Za računanje kondicionog broja koristićemo funkciju `cond`."
   ]
  },
  {
   "cell_type": "code",
   "execution_count": 12,
   "metadata": {},
   "outputs": [
    {
     "data": {
      "text/plain": [
       "102.39895228883073"
      ]
     },
     "execution_count": 12,
     "metadata": {},
     "output_type": "execute_result"
    }
   ],
   "source": [
    "LA.cond(A)"
   ]
  },
  {
   "cell_type": "code",
   "execution_count": 15,
   "metadata": {},
   "outputs": [
    {
     "data": {
      "text/plain": [
       "102.39895228883104"
      ]
     },
     "execution_count": 15,
     "metadata": {},
     "output_type": "execute_result"
    }
   ],
   "source": [
    "LA.norm(A, ord=2) * LA.norm(LA.inv(A), ord=2)"
   ]
  },
  {
   "cell_type": "code",
   "execution_count": null,
   "metadata": {},
   "outputs": [],
   "source": []
  },
  {
   "cell_type": "code",
   "execution_count": null,
   "metadata": {},
   "outputs": [],
   "source": []
  },
  {
   "cell_type": "code",
   "execution_count": null,
   "metadata": {},
   "outputs": [],
   "source": []
  },
  {
   "cell_type": "markdown",
   "metadata": {},
   "source": [
    "Kondicioni broj zavisi od vrste norme matrice. Podrazumevano se koristi matrična 2-norma."
   ]
  },
  {
   "cell_type": "markdown",
   "metadata": {},
   "source": [
    "Praktično, kondicioni broj ukazuje na numeričku stabilnost sistema u kojima matrica figuriše. Za sistem jednačina $Ax=b$, vrednost $\\kappa(A)$ određuje promenu vrednosti vektora $x$ u zavisnosti od promene vrednosti vektora $b$. Ukoliko je vrednost $\\kappa(A)$ velika, tada i male promene vrednosti vektora $b$ utiču da se vrednost vektora $x$ dosta promeni. Ako je vrednost kondicionog broja mala, onda promena vektora $x$ neće biti naročito velika."
   ]
  },
  {
   "cell_type": "markdown",
   "metadata": {},
   "source": [
    "Ilustrujmo to primerom \n",
    "$\\begin{bmatrix}\n",
    "    1 & 2 \\\\\n",
    "    2 & 3.999\n",
    "\\end{bmatrix}\n",
    "\\begin{bmatrix}\n",
    "x_1 \\\\\n",
    "x_2\n",
    "\\end{bmatrix}\n",
    "=\n",
    "\\begin{bmatrix}\n",
    "4 \\\\\n",
    "7.999\n",
    "\\end{bmatrix}\n",
    "$"
   ]
  },
  {
   "cell_type": "code",
   "execution_count": 16,
   "metadata": {},
   "outputs": [],
   "source": [
    "A = np.array([\n",
    "    [1, 2], \n",
    "    [2, 3.999]\n",
    "])"
   ]
  },
  {
   "cell_type": "code",
   "execution_count": 17,
   "metadata": {},
   "outputs": [],
   "source": [
    "b = np.array([4, 7.999]).T"
   ]
  },
  {
   "cell_type": "code",
   "execution_count": 18,
   "metadata": {},
   "outputs": [],
   "source": [
    "x = LA.inv(A).dot(b)"
   ]
  },
  {
   "cell_type": "code",
   "execution_count": 19,
   "metadata": {},
   "outputs": [
    {
     "data": {
      "text/plain": [
       "array([2., 1.])"
      ]
     },
     "execution_count": 19,
     "metadata": {},
     "output_type": "execute_result"
    }
   ],
   "source": [
    "x"
   ]
  },
  {
   "cell_type": "code",
   "execution_count": null,
   "metadata": {},
   "outputs": [],
   "source": []
  },
  {
   "cell_type": "code",
   "execution_count": 20,
   "metadata": {},
   "outputs": [],
   "source": [
    "A1 = A.copy()\n",
    "b1 = b.copy()\n",
    "b1[0] += 0.001\n",
    "b1[1] -= 0.001"
   ]
  },
  {
   "cell_type": "code",
   "execution_count": 21,
   "metadata": {},
   "outputs": [],
   "source": [
    "x1 = LA.inv(A1).dot(b1)"
   ]
  },
  {
   "cell_type": "code",
   "execution_count": 22,
   "metadata": {},
   "outputs": [
    {
     "data": {
      "text/plain": [
       "array([-3.999,  4.   ])"
      ]
     },
     "execution_count": 22,
     "metadata": {},
     "output_type": "execute_result"
    }
   ],
   "source": [
    "x1"
   ]
  },
  {
   "cell_type": "code",
   "execution_count": null,
   "metadata": {},
   "outputs": [],
   "source": []
  },
  {
   "cell_type": "code",
   "execution_count": 23,
   "metadata": {},
   "outputs": [],
   "source": [
    "A2 = A.copy()\n",
    "A2[0, 0] += 0.001\n",
    "A2[0, 1] += 0.001\n",
    "A2[1, 0] += 0.001\n",
    "A2[1, 1] -= 0.001\n",
    "\n",
    "b2 = b.copy()"
   ]
  },
  {
   "cell_type": "code",
   "execution_count": 24,
   "metadata": {},
   "outputs": [],
   "source": [
    "x2 = LA.inv(A2).dot(b2)"
   ]
  },
  {
   "cell_type": "code",
   "execution_count": 25,
   "metadata": {},
   "outputs": [
    {
     "data": {
      "text/plain": [
       "array([ 6.98901648, -1.49725412])"
      ]
     },
     "execution_count": 25,
     "metadata": {},
     "output_type": "execute_result"
    }
   ],
   "source": [
    "x2"
   ]
  },
  {
   "cell_type": "code",
   "execution_count": null,
   "metadata": {},
   "outputs": [],
   "source": []
  },
  {
   "cell_type": "code",
   "execution_count": 26,
   "metadata": {},
   "outputs": [
    {
     "data": {
      "text/plain": [
       "24992.000960058016"
      ]
     },
     "execution_count": 26,
     "metadata": {},
     "output_type": "execute_result"
    }
   ],
   "source": [
    "LA.cond(A)"
   ]
  },
  {
   "cell_type": "code",
   "execution_count": null,
   "metadata": {},
   "outputs": [],
   "source": []
  },
  {
   "cell_type": "code",
   "execution_count": null,
   "metadata": {},
   "outputs": [],
   "source": []
  },
  {
   "cell_type": "markdown",
   "metadata": {},
   "source": [
    "Poznata klasa loše uslovljenih matrica su **Hilbertove matrice**. Hilbertova matrica reda $n$ je matrica čiji su elementi oblika $H_{i, j} = \\frac{1}{i+j-1}$ za i, j = 1, 2, 3, ...  Na primer, Hilbertova matrice reda 3 je $\n",
    "\\begin{bmatrix}\n",
    "1 & \\frac{1}{2} & \\frac{1}{3} \\\\\n",
    "\\frac{1}{2} & \\frac{1}{3} & \\frac{1}{4} \\\\\n",
    "\\frac{1}{3} & \\frac{1}{4} & \\frac{1}{5} \\\\\n",
    "\\end{bmatrix}\n",
    "$."
   ]
  },
  {
   "cell_type": "markdown",
   "metadata": {},
   "source": [
    "Sledeća funkcija konstruiše Hilbertovu matricu reda $n$."
   ]
  },
  {
   "cell_type": "code",
   "execution_count": 27,
   "metadata": {},
   "outputs": [],
   "source": [
    "def hilbert_matrix(n):\n",
    "    H = np.zeros((n, n))\n",
    "\n",
    "    for i in range(0, n):\n",
    "        for j in range(0, n):\n",
    "            H[i, j] = 1 / ((i + 1) + (j + 1) - 1)\n",
    "            \n",
    "    return H"
   ]
  },
  {
   "cell_type": "code",
   "execution_count": 28,
   "metadata": {},
   "outputs": [
    {
     "data": {
      "text/plain": [
       "array([[1.        , 0.5       , 0.33333333],\n",
       "       [0.5       , 0.33333333, 0.25      ],\n",
       "       [0.33333333, 0.25      , 0.2       ]])"
      ]
     },
     "execution_count": 28,
     "metadata": {},
     "output_type": "execute_result"
    }
   ],
   "source": [
    "hilbert_matrix(3)"
   ]
  },
  {
   "cell_type": "code",
   "execution_count": null,
   "metadata": {},
   "outputs": [],
   "source": []
  },
  {
   "cell_type": "code",
   "execution_count": null,
   "metadata": {},
   "outputs": [],
   "source": []
  },
  {
   "cell_type": "markdown",
   "metadata": {},
   "source": [
    "Neka dalje funkcija `b_values` za date parametre $n$ i $\\sigma$ generiše vektor $b$ čiji su elementi određeni sa $$b_i = \\sum_{j=1}^{j=n}{\\frac{1}{i+j-1}}+\\sigma R(i)$$ u kojem $R(i)$ predstavlja slučajan broj iz intervala $[-1, 1]$."
   ]
  },
  {
   "cell_type": "code",
   "execution_count": 29,
   "metadata": {},
   "outputs": [],
   "source": [
    "def b_values(n, sigma):\n",
    "    b = np.zeros(n)\n",
    "\n",
    "    for i in range(0, n):\n",
    "        b[i] = np.sum([1 / ((i + 1) + (j + 1) - 1) for j in range(0, n)]) + sigma*np.random.uniform(-1, 1)\n",
    "        \n",
    "    return b"
   ]
  },
  {
   "cell_type": "code",
   "execution_count": 30,
   "metadata": {},
   "outputs": [
    {
     "data": {
      "text/plain": [
       "array([1.82597197, 1.07660817, 0.78768357])"
      ]
     },
     "execution_count": 30,
     "metadata": {},
     "output_type": "execute_result"
    }
   ],
   "source": [
    "b_values(3, 10**-2)"
   ]
  },
  {
   "cell_type": "code",
   "execution_count": null,
   "metadata": {},
   "outputs": [],
   "source": []
  },
  {
   "cell_type": "code",
   "execution_count": null,
   "metadata": {},
   "outputs": [],
   "source": []
  },
  {
   "cell_type": "markdown",
   "metadata": {},
   "source": [
    "Napisaćemo i funkciju `solve_hilbert_system` koja rešava sistem jednačina $Hx=b$ za zadate vrednosti parametara $n$ i $\\sigma$ u kojem je $H$ Hilbertova matrica reda $n$, a vektor vrednosti $b$ vektor dobijen uz pomoć funkcije `b_values`."
   ]
  },
  {
   "cell_type": "code",
   "execution_count": 31,
   "metadata": {},
   "outputs": [],
   "source": [
    "def solve_hilbert_system(n, sigma):\n",
    "    H = hilbert_matrix(n)\n",
    "    b = b_values(n, sigma)\n",
    "    \n",
    "    return LA.inv(H).dot(b)"
   ]
  },
  {
   "cell_type": "code",
   "execution_count": null,
   "metadata": {},
   "outputs": [],
   "source": []
  },
  {
   "cell_type": "code",
   "execution_count": null,
   "metadata": {},
   "outputs": [],
   "source": []
  },
  {
   "cell_type": "markdown",
   "metadata": {},
   "source": [
    "Koristeći napisanu funkciju rešićemo sistem jednačina $Hx=b$ za $n=10$ i $\\sigma=10^{-14}$, a potom i za vrednosti $n=10$ i $\\sigma=10^{-5}$."
   ]
  },
  {
   "cell_type": "code",
   "execution_count": 32,
   "metadata": {},
   "outputs": [],
   "source": [
    "n = 10 \n",
    "sigma_1 = 10**-14\n",
    "sigma_2 = 10**-5"
   ]
  },
  {
   "cell_type": "code",
   "execution_count": 33,
   "metadata": {},
   "outputs": [
    {
     "data": {
      "text/plain": [
       "array([1.00001397, 0.99928796, 1.00097847, 1.00112915, 0.99047852,\n",
       "       1.02734375, 0.95507812, 1.04248047, 0.97802734, 1.00469971])"
      ]
     },
     "execution_count": 33,
     "metadata": {},
     "output_type": "execute_result"
    }
   ],
   "source": [
    "solve_hilbert_system(n, sigma_1)"
   ]
  },
  {
   "cell_type": "code",
   "execution_count": 34,
   "metadata": {},
   "outputs": [
    {
     "data": {
      "text/plain": [
       "array([-1.01744071e+02,  8.83988417e+03, -1.87735460e+05,  1.70347964e+06,\n",
       "       -8.11447632e+06,  2.22852845e+07, -3.65374596e+07,  3.52903964e+07,\n",
       "       -1.85196010e+07,  4.07145468e+06])"
      ]
     },
     "execution_count": 34,
     "metadata": {},
     "output_type": "execute_result"
    }
   ],
   "source": [
    "solve_hilbert_system(n, sigma_2)"
   ]
  },
  {
   "cell_type": "code",
   "execution_count": 35,
   "metadata": {},
   "outputs": [
    {
     "data": {
      "text/plain": [
       "16025028168113.176"
      ]
     },
     "execution_count": 35,
     "metadata": {},
     "output_type": "execute_result"
    }
   ],
   "source": [
    "H_10 = hilbert_matrix(n)\n",
    "LA.cond(H_10)"
   ]
  },
  {
   "cell_type": "code",
   "execution_count": null,
   "metadata": {},
   "outputs": [],
   "source": []
  }
 ],
 "metadata": {
  "kernelspec": {
   "display_name": "Python 3",
   "language": "python",
   "name": "python3"
  },
  "language_info": {
   "codemirror_mode": {
    "name": "ipython",
    "version": 3
   },
   "file_extension": ".py",
   "mimetype": "text/x-python",
   "name": "python",
   "nbconvert_exporter": "python",
   "pygments_lexer": "ipython3",
   "version": "3.7.6"
  }
 },
 "nbformat": 4,
 "nbformat_minor": 2
}
