{
 "cells": [
  {
   "cell_type": "markdown",
   "metadata": {},
   "source": [
    "# Rad sa matricama"
   ]
  },
  {
   "cell_type": "markdown",
   "metadata": {},
   "source": [
    "Kao što smo videli, višedimenzioni nizovi predstavljaju osnovnu strukturu podataka biblioteke `numpy`. Paket `numpy.linalg` specifično podržava razne algebarske funkcionalnosti u radu sa matricama, među kojima su nalaženje determinante matrice, njenog inverza, sopstvenih vektora i sopstvenih vrednosti, normi, uslovljenosti i drugih.  "
   ]
  },
  {
   "cell_type": "code",
   "execution_count": 1,
   "metadata": {},
   "outputs": [],
   "source": [
    "import numpy as np\n",
    "from numpy import linalg as LA"
   ]
  },
  {
   "cell_type": "markdown",
   "metadata": {},
   "source": [
    "Za demonstraciju funkcija `numpy.linalg` paketa, kreiraćemo kvadratnu matricu \n",
    "$A = \\begin{bmatrix}\n",
    "    1 & 2 & 4 \\\\\n",
    "    -5 & 7 & 2 \\\\\n",
    "    5 & 1 & 9\n",
    "\\end{bmatrix}$."
   ]
  },
  {
   "cell_type": "code",
   "execution_count": null,
   "metadata": {},
   "outputs": [],
   "source": []
  },
  {
   "cell_type": "code",
   "execution_count": null,
   "metadata": {},
   "outputs": [],
   "source": []
  },
  {
   "cell_type": "markdown",
   "metadata": {},
   "source": [
    "`Determinanta` matrice se može definisati rekurzivno. Tako za matrice reda $2 \\times 2$, $3 \\times 3$ i $4 \\times 4$, važi \n",
    "\n",
    "* $\\begin{vmatrix}a_{11}&a_{12}\\\\a_{21}&a_{22}\\end{vmatrix} = a_{11}a_{22}-a_{12}a_{21},$\n",
    "* $\\begin{vmatrix}a_{11}&a_{12}&a_{13}\\\\a_{21}&a_{22}&a_{23}\\\\a_{31}&a_{32}&a_{33}\\end{vmatrix} = a_{11}\\begin{vmatrix}a_{22}&a_{23}\\\\a_{32}&a_{33}\\end{vmatrix} - a_{12}\\begin{vmatrix}a_{21}&a_{23}\\\\a_{31}&a_{33}\\end{vmatrix} + a_{13}\\begin{vmatrix}a_{21}&a_{22}\\\\a_{31}&a_{32}\\end{vmatrix},$ \n",
    "* $\\begin{vmatrix}a_{11}&a_{12}&a_{13}&a_{14}\\\\a_{21}&a_{22}&a_{23}&a_{24}\\\\a_{31}&a_{32}&a_{33}&a_{34}\\\\a_{41}&a_{42}&a_{43}&a_{44}\\end{vmatrix} = a_{11} \\begin{vmatrix}a_{22}&a_{23}&a_{24}\\\\a_{32}&a_{33}&a_{34}\\\\a_{42}&a_{43}&a_{44}\\end{vmatrix} - a_{12} \\begin{vmatrix}a_{21}&a_{23}&a_{24}\\\\a_{31}&a_{33}&a_{34}\\\\a_{41}&a_{43}&a_{44}\\end{vmatrix} + a_{13}\n",
    "\\begin{vmatrix}a_{21}&a_{22}&a_{24}\\\\a_{31}&a_{32}&a_{34}\\\\a_{41}&a_{42}&a_{44}\\end{vmatrix} - a_{14} \\begin{vmatrix}a_{21}&a_{22}&a_{23}\\\\a_{31}&a_{32}&a_{33}\\\\a_{41}&a_{42}&a_{43}\\end{vmatrix}.$\n",
    "\n",
    "Svaki sabirak u izrazu za izračunavanje determinante predstavlja proizvod jednog elementa matrice i determinante matrice koja se dobija od polazne uklanjanjem reda i kolone kojima pripada taj element. Za razlaganje se mogu odabrati svi elementi proizvoljne vrste ili kolone. U našem slučaju su uzeti elementi prve vrste. Svaki drugi sabirak u izrazu treba da bude pomnožen sa $-1$. \n",
    "\n",
    "Ova definicija se lako može uopštiti i na matrice većeg reda.\n",
    "\n",
    "Za uočenu matricu $A$, vrednost determinante se može interpretirati kao mera skaliranja i promene orijentacije preslikavanja određenog matricom $A$."
   ]
  },
  {
   "cell_type": "code",
   "execution_count": null,
   "metadata": {},
   "outputs": [],
   "source": []
  },
  {
   "cell_type": "markdown",
   "metadata": {},
   "source": [
    "Za računanje determinante matrice koristimo funkciju `det`:"
   ]
  },
  {
   "cell_type": "code",
   "execution_count": null,
   "metadata": {},
   "outputs": [],
   "source": []
  },
  {
   "cell_type": "code",
   "execution_count": null,
   "metadata": {},
   "outputs": [],
   "source": []
  },
  {
   "cell_type": "code",
   "execution_count": null,
   "metadata": {},
   "outputs": [],
   "source": []
  },
  {
   "cell_type": "markdown",
   "metadata": {},
   "source": [
    "Ukoliko je determinanta kvadratne matrice $A$ različita od nule, postoji njen `inverz` tj. matrica $A^{-1}$ za koji važi $AA^{-1}=I$, gde je $I$ jedinična matrica."
   ]
  },
  {
   "cell_type": "markdown",
   "metadata": {},
   "source": [
    "Za računanje inverza matrice koristimo funkciju `inv`:"
   ]
  },
  {
   "cell_type": "code",
   "execution_count": null,
   "metadata": {},
   "outputs": [],
   "source": []
  },
  {
   "cell_type": "code",
   "execution_count": null,
   "metadata": {},
   "outputs": [],
   "source": []
  },
  {
   "cell_type": "code",
   "execution_count": null,
   "metadata": {},
   "outputs": [],
   "source": []
  },
  {
   "cell_type": "markdown",
   "metadata": {},
   "source": [
    "Za matrice čija je determinanta jednaka nuli kažemo da su `singularne` matrice."
   ]
  },
  {
   "cell_type": "code",
   "execution_count": null,
   "metadata": {},
   "outputs": [],
   "source": []
  },
  {
   "cell_type": "markdown",
   "metadata": {},
   "source": [
    "Ako za neki realan vektor $x$ važi $Ax = \\lambda x$, gde je $\\lambda$ skalar, vektor $x$ se naziva `sopstveni vektor`, a $\\lambda$ `sopstvena vrednost` matrice $A$. "
   ]
  },
  {
   "cell_type": "markdown",
   "metadata": {},
   "source": [
    "<img src='assets/eigenvectors.gif'>"
   ]
  },
  {
   "cell_type": "markdown",
   "metadata": {},
   "source": [
    "Intuitivno, sopstveni vektori su vektori koji u matričnim transformacijama ne menjaju svoj pravac. Sopstvene vrednosti reflektuju promenu njihovog intenziteta i smera. "
   ]
  },
  {
   "cell_type": "markdown",
   "metadata": {},
   "source": [
    "U opštem slučaju sopstvene vrednosti se dobijaju kao nule jednačine $det(A-\\lambda I)=0$, takozvanog karakterističnog polinoma. Nešto kasnije na kursu ćemo upoznati metode stepenovanja i iscrpljivanja za dobijanje sopstvenih vrednosti. Na nivou biblioteke nam je na raspolaganju funkcija `eig` koja izračunava sopstvene vrednosti i normirane sopstvene vektore. "
   ]
  },
  {
   "cell_type": "code",
   "execution_count": null,
   "metadata": {},
   "outputs": [],
   "source": []
  },
  {
   "cell_type": "code",
   "execution_count": null,
   "metadata": {},
   "outputs": [],
   "source": []
  },
  {
   "cell_type": "code",
   "execution_count": null,
   "metadata": {},
   "outputs": [],
   "source": []
  },
  {
   "cell_type": "code",
   "execution_count": null,
   "metadata": {},
   "outputs": [],
   "source": []
  },
  {
   "cell_type": "markdown",
   "metadata": {},
   "source": [
    "**Norma** matrice $A$ je nenegativan broj $||A||$ za koji važi: \n",
    "\n",
    "* $||A|| \\ge 0$\n",
    "* $||A|| = 0$ ako i samo ako je $A = 0$,\n",
    "* $||kA|| = |k|\\cdot||A||$, za $k$ koje pripada prostoru skalara\n",
    "* $||A+B||\\le||A||+||B||$,\n",
    "\n",
    "Među najpoznatijim normama su matrična `1-norma`, matrična `2-norma`, matrična $\\infty$`-norma` i `Frobeniusova` norma.\n",
    "\n",
    "* **Matrična 1-norma** predstavlja maksimalni zbir sume apsolutnih vrednosti elemenata u svakoj koloni i definisana je sa $||A||_1 = \\max_j \\sum_i |a_{ij}|$.\n",
    "\n",
    "* **Matrična 2-norma** je jednaka korenu najveće sopstvene vrednosti matrice $A^TA$ i definisana je sa $||A||_2 = \\sqrt{\\lambda_{max} (A^TA)}$. U slučaju kompleksne matrice, umesto transponovane, koristi se [konjugovana transponovana matrica](http://mathworld.wolfram.com/ConjugateTranspose.html).\n",
    "\n",
    "* **Frobeniusova norma** predstavlja koren sume apsolutnih vrednosti svih elemenata matrice i definisana je sa $||A||_F = \\sqrt{\\sum_i \\sum_j |a_{ij}|^2}$. Važi $||A||_2 \\le ||A||_F \\le \\sqrt{r} \\cdot ||A||_2$, gde je $r$ rang matrice $A$.\n",
    "\n",
    "* **Matrična $\\infty$-norma** predstavlja maksimalni zbir sume apsolutnih vrednosti elemenata u svakom redu i definisana je sa $||A||_{\\infty} = \\max_i \\sum_j |a_{ij}|$."
   ]
  },
  {
   "cell_type": "code",
   "execution_count": null,
   "metadata": {},
   "outputs": [],
   "source": []
  },
  {
   "cell_type": "markdown",
   "metadata": {},
   "source": [
    "Za računanje norme koristićemo funkciju `norm`, a njenim parametrom `ord` naglašavaćemo o kojoj normi je reč."
   ]
  },
  {
   "cell_type": "code",
   "execution_count": null,
   "metadata": {},
   "outputs": [],
   "source": []
  },
  {
   "cell_type": "code",
   "execution_count": null,
   "metadata": {},
   "outputs": [],
   "source": []
  },
  {
   "cell_type": "code",
   "execution_count": null,
   "metadata": {},
   "outputs": [],
   "source": []
  },
  {
   "cell_type": "code",
   "execution_count": null,
   "metadata": {},
   "outputs": [],
   "source": []
  },
  {
   "cell_type": "markdown",
   "metadata": {},
   "source": [
    "U prostoru konačne dimenzije ($R^n$ ili $R^{nxm}$ su slučajevi koje razmatramo) sve norme su međusobno ekvivalentne. To znači da za dve norme $\\|\\|_{n1}$ i $\\|\\|_{n2}$ postoje pozitivne realne konstante $c_1$ i $c_2$ takve da je $c_1\\cdot\\|x\\|_{n1}\\leq \\|x\\|_{n2} \\leq c_2\\cdot\\|x\\|_{n1}$  "
   ]
  },
  {
   "cell_type": "code",
   "execution_count": null,
   "metadata": {},
   "outputs": [],
   "source": []
  },
  {
   "cell_type": "markdown",
   "metadata": {},
   "source": [
    "U opštem slučaju, norma matrice **indukovana** normom vektora $||\\cdot||_a$ se definiše kao $||A||_a = max_{||x||_a=1}||Ax||_a = max_{||x||_a \\neq 0} \\frac{||Ax||_a}{||x||_a}$."
   ]
  },
  {
   "cell_type": "markdown",
   "metadata": {},
   "source": [
    "<img src='assets/induced_matrix_norm.png'>\n"
   ]
  },
  {
   "cell_type": "markdown",
   "metadata": {},
   "source": [
    "Intuitivno ovako definisanu normu matrice možemo interpretirati kao vrednost radijusa kruga tj. hipersfere koja sadrži sva preslikavanja polaznih jediničnih vektora. Na ovaj način se steče predstava i o gornjim ograničenjima očekivanih transformacija polaznih vektora. "
   ]
  },
  {
   "cell_type": "code",
   "execution_count": null,
   "metadata": {},
   "outputs": [],
   "source": []
  },
  {
   "cell_type": "markdown",
   "metadata": {},
   "source": [
    "`Kondicioni broj` $\\kappa(A)$ kvadratne invertibilne matrice $A$ je numerička vrednost koja se definiše sa $\\kappa(A) = ||A||\\cdot||A^{-1}||$. Ukoliko matrica $A$ nije invirtibilna, tada je $\\kappa(A) = \\infty$. "
   ]
  },
  {
   "cell_type": "markdown",
   "metadata": {},
   "source": [
    "Za računanje kondicionog broja koristićemo funkciju `cond`."
   ]
  },
  {
   "cell_type": "code",
   "execution_count": null,
   "metadata": {},
   "outputs": [],
   "source": []
  },
  {
   "cell_type": "code",
   "execution_count": null,
   "metadata": {},
   "outputs": [],
   "source": []
  },
  {
   "cell_type": "code",
   "execution_count": null,
   "metadata": {},
   "outputs": [],
   "source": []
  },
  {
   "cell_type": "code",
   "execution_count": null,
   "metadata": {},
   "outputs": [],
   "source": []
  },
  {
   "cell_type": "code",
   "execution_count": null,
   "metadata": {},
   "outputs": [],
   "source": []
  },
  {
   "cell_type": "markdown",
   "metadata": {},
   "source": [
    "Kondicioni broj zavisi od vrste norme matrice. Podrazumevano se koristi matrična 2-norma."
   ]
  },
  {
   "cell_type": "markdown",
   "metadata": {},
   "source": [
    "Praktično, kondicioni broj ukazuje na numeričku stabilnost sistema u kojima matrica figuriše. Za sistem jednačina $Ax=b$, vrednost $\\kappa(A)$ određuje promenu vrednosti vektora $x$ u zavisnosti od promene vrednosti vektora $b$. Ukoliko je vrednost $\\kappa(A)$ velika, tada i male promene vrednosti vektora $b$ utiču da se vrednost vektora $x$ dosta promeni. Ako je vrednost kondicionog broja mala, onda promena vektora $x$ neće biti naročito velika."
   ]
  },
  {
   "cell_type": "markdown",
   "metadata": {},
   "source": [
    "Ilustrujmo to primerom \n",
    "$\\begin{bmatrix}\n",
    "    1 & 2 \\\\\n",
    "    2 & 3.999\n",
    "\\end{bmatrix}\n",
    "\\begin{bmatrix}\n",
    "x_1 \\\\\n",
    "x_2\n",
    "\\end{bmatrix}\n",
    "=\n",
    "\\begin{bmatrix}\n",
    "4 \\\\\n",
    "7.999\n",
    "\\end{bmatrix}\n",
    "$"
   ]
  },
  {
   "cell_type": "code",
   "execution_count": null,
   "metadata": {},
   "outputs": [],
   "source": []
  },
  {
   "cell_type": "code",
   "execution_count": null,
   "metadata": {},
   "outputs": [],
   "source": []
  },
  {
   "cell_type": "code",
   "execution_count": null,
   "metadata": {},
   "outputs": [],
   "source": []
  },
  {
   "cell_type": "code",
   "execution_count": null,
   "metadata": {},
   "outputs": [],
   "source": []
  },
  {
   "cell_type": "code",
   "execution_count": null,
   "metadata": {},
   "outputs": [],
   "source": []
  },
  {
   "cell_type": "code",
   "execution_count": null,
   "metadata": {},
   "outputs": [],
   "source": []
  },
  {
   "cell_type": "code",
   "execution_count": null,
   "metadata": {},
   "outputs": [],
   "source": []
  },
  {
   "cell_type": "code",
   "execution_count": null,
   "metadata": {},
   "outputs": [],
   "source": []
  },
  {
   "cell_type": "code",
   "execution_count": null,
   "metadata": {},
   "outputs": [],
   "source": []
  },
  {
   "cell_type": "code",
   "execution_count": null,
   "metadata": {},
   "outputs": [],
   "source": []
  },
  {
   "cell_type": "markdown",
   "metadata": {},
   "source": [
    "Poznata klasa loše uslovljenih matrica su **Hilbertove matrice**. Hilbertova matrica reda $n$ je matrica čiji su elementi oblika $H_{i, j} = \\frac{1}{i+j-1}$ za i, j = 1, 2, 3, ...  Na primer, Hilbertova matrice reda 3 je $\n",
    "\\begin{bmatrix}\n",
    "1 & \\frac{1}{2} & \\frac{1}{3} \\\\\n",
    "\\frac{1}{2} & \\frac{1}{3} & \\frac{1}{4} \\\\\n",
    "\\frac{1}{3} & \\frac{1}{4} & \\frac{1}{5} \\\\\n",
    "\\end{bmatrix}\n",
    "$."
   ]
  },
  {
   "cell_type": "markdown",
   "metadata": {},
   "source": [
    "Sledeća funkcija konstruiše Hilbertovu matricu reda $n$."
   ]
  },
  {
   "cell_type": "code",
   "execution_count": null,
   "metadata": {},
   "outputs": [],
   "source": []
  },
  {
   "cell_type": "code",
   "execution_count": null,
   "metadata": {},
   "outputs": [],
   "source": []
  },
  {
   "cell_type": "code",
   "execution_count": null,
   "metadata": {},
   "outputs": [],
   "source": []
  },
  {
   "cell_type": "code",
   "execution_count": null,
   "metadata": {},
   "outputs": [],
   "source": []
  },
  {
   "cell_type": "markdown",
   "metadata": {},
   "source": [
    "Neka dalje funkcija `b_values` za date parametre $n$ i $\\sigma$ generiše vektor $b$ čiji su elementi određeni sa $$b_i = \\sum_{j=1}^{j=n}{\\frac{1}{i+j-1}}+\\sigma R(i)$$ u kojem $R(i)$ predstavlja slučajan broj iz intervala $[-1, 1]$."
   ]
  },
  {
   "cell_type": "code",
   "execution_count": null,
   "metadata": {},
   "outputs": [],
   "source": []
  },
  {
   "cell_type": "code",
   "execution_count": null,
   "metadata": {},
   "outputs": [],
   "source": []
  },
  {
   "cell_type": "code",
   "execution_count": null,
   "metadata": {},
   "outputs": [],
   "source": []
  },
  {
   "cell_type": "code",
   "execution_count": null,
   "metadata": {},
   "outputs": [],
   "source": []
  },
  {
   "cell_type": "markdown",
   "metadata": {},
   "source": [
    "Napisaćemo i funkciju `solve_hilbert_system` koja rešava sistem jednačina $Hx=b$ za zadate vrednosti parametara $n$ i $\\sigma$ u kojem je $H$ Hilbertova matrica reda $n$, a vektor vrednosti $b$ vektor dobijen uz pomoć funkcije `b_values`."
   ]
  },
  {
   "cell_type": "code",
   "execution_count": null,
   "metadata": {},
   "outputs": [],
   "source": []
  },
  {
   "cell_type": "code",
   "execution_count": null,
   "metadata": {},
   "outputs": [],
   "source": []
  },
  {
   "cell_type": "code",
   "execution_count": null,
   "metadata": {},
   "outputs": [],
   "source": []
  },
  {
   "cell_type": "markdown",
   "metadata": {},
   "source": [
    "Koristeći napisanu funkciju rešićemo sistem jednačina $Hx=b$ za $n=10$ i $\\sigma=10^{-14}$, a potom i za vrednosti $n=10$ i $\\sigma=10^{-5}$."
   ]
  },
  {
   "cell_type": "code",
   "execution_count": null,
   "metadata": {},
   "outputs": [],
   "source": []
  },
  {
   "cell_type": "code",
   "execution_count": null,
   "metadata": {},
   "outputs": [],
   "source": []
  },
  {
   "cell_type": "code",
   "execution_count": null,
   "metadata": {},
   "outputs": [],
   "source": []
  },
  {
   "cell_type": "code",
   "execution_count": null,
   "metadata": {},
   "outputs": [],
   "source": []
  }
 ],
 "metadata": {
  "kernelspec": {
   "display_name": "Python 3",
   "language": "python",
   "name": "python3"
  },
  "language_info": {
   "codemirror_mode": {
    "name": "ipython",
    "version": 3
   },
   "file_extension": ".py",
   "mimetype": "text/x-python",
   "name": "python",
   "nbconvert_exporter": "python",
   "pygments_lexer": "ipython3",
   "version": "3.7.6"
  }
 },
 "nbformat": 4,
 "nbformat_minor": 2
}
