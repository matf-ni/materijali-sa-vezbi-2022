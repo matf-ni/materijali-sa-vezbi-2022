{
 "cells": [
  {
   "cell_type": "markdown",
   "metadata": {},
   "source": [
    "# Linaerna regresija"
   ]
  },
  {
   "cell_type": "markdown",
   "metadata": {},
   "source": [
    "**Linearna regresija** predstavlja problem nalaženja linearne veze između nezavisne promenljive $x$ i zavisne promenljive $y$. Ukoliko je promenljiva $x$ skalar, radi se o prostoj linearnoj regresiji, a ako je promenljiva $x$ vektor, reč je o linearnoj regresiji za funkciju više promenljivih. U oba slučaja, pretpostavka je da je zavisna promenljiva $y$ skalar."
   ]
  },
  {
   "cell_type": "code",
   "execution_count": null,
   "metadata": {},
   "outputs": [],
   "source": []
  },
  {
   "cell_type": "markdown",
   "metadata": {},
   "source": [
    "**Prosta linearna regresija** predstavlja nalaženje linearne veze između parova skalara $(x_i, y_i)$, $1 \\le i \\le n$. Veza je data linearnom funkcijom $f(x) = \\beta_0 + \\beta_1 x$ po parametrima $\\beta_0$ i $\\beta_1$ gde su $\\beta_0$ i $\\beta_1$ parametri koje treba odrediti. Ako je $X=[x_1, \\dots, x_n]$ i $Y=[y_1, \\dots, y_n]$, izraz se može zapisati u matričnom obliku kao $\\begin{bmatrix}1&X\\end{bmatrix} \\cdot \\begin{bmatrix}\\beta_0\\\\\\beta_1\\end{bmatrix} = Y$, gde je $\\begin{bmatrix}1&X\\end{bmatrix}$ matrica čija se prva kolona sastoji samo od jedinica, a druga kolona je vektor $X$."
   ]
  },
  {
   "cell_type": "code",
   "execution_count": null,
   "metadata": {},
   "outputs": [],
   "source": []
  },
  {
   "cell_type": "markdown",
   "metadata": {},
   "source": [
    "**Linearna regresija za funkciju više promenljivih** predstavlja nalaženje linearne veze između parova vektora i skalara $(X_i, y_i)$, $1 \\le i \\le n$. Veza je data linearnom funkcijom $f(x_1,\\dots,x_m) = \\beta_0 + \\beta_1 x_1 + \\dots + \\beta_m x_m$ po parametrima $\\beta_0, \\dots, \\beta_m$ gde su $\\beta_0, \\dots, \\beta_m$ parametri koje treba odrediti. Izraz se može zapisati u matričnom obliku kao $\\begin{bmatrix}1&X_1&\\cdots&X_m\\end{bmatrix} \\cdot \\begin{bmatrix}\\beta_0\\\\ \\vdots \\\\ \\beta_m\\end{bmatrix} = Y$, gde je $Y=[y_1, \\dots, y_n]$, $\\begin{bmatrix}1&X_1&\\cdots&X_m\\end{bmatrix}$ matrica čija se prva kolona sastoji samo od jedinica, a ostale kolone su redom vektori $X_1,\\dots,X_m$. "
   ]
  },
  {
   "cell_type": "code",
   "execution_count": null,
   "metadata": {},
   "outputs": [],
   "source": []
  },
  {
   "cell_type": "markdown",
   "metadata": {},
   "source": [
    "Sistem jednačina $\\begin{bmatrix}1&X\\end{bmatrix} \\cdot \\begin{bmatrix}\\beta_0\\\\\\beta_1\\end{bmatrix} = Y$ kod proste linearne regresije, odnosno $\\begin{bmatrix}1&X_1&\\cdots&X_m\\end{bmatrix} \\cdot \\begin{bmatrix}\\beta_0\\\\ \\vdots \\\\ \\beta_m\\end{bmatrix} = Y$ kod linearne regresije za funkciju više promenljivih, se najčešće rešava **metodom najmanjih kvadrata**. Takav sistem u praksi obično ima više jednačina nego promenljivih i najčešće nema egzaktno rešenje."
   ]
  },
  {
   "cell_type": "markdown",
   "metadata": {},
   "source": [
    "Ako sistem napišemo u obliku $A\\beta = Y$, njegovo rešavanje predstavlja nalaženje onog vektora $\\beta$ za koji je vrednost izraza $||Y - \\beta A||_2^2$ najmanja. Ovde je sa $||a||_2 = \\sqrt{a_1^2 + a_2^2 + \\dots + a_n^2}$ označena 2-norma vektora $a = (a_1, a_2, \\dots, a_n)$. Rešenje je dato u obliku $\\beta=(A^{T}A)^{-1}A^{T}Y$, gde se matrica $(A^{T}A)^{-1}A^{T}$ se naziva pseudoinverz matrice $A$."
   ]
  },
  {
   "cell_type": "markdown",
   "metadata": {},
   "source": [
    "U slučaju proste linearne regresije, može se pokazati da je $$\\beta_1 = \\frac{\\sum_{i=1}^n (x_i-\\bar{x})(y_i-\\bar{y})}{\\sum_{i=1}^n (x_i-\\bar{x})^2}$$ i $\\beta_0 = \\bar{y} - \\beta_1 \\bar{x}$, gde je $\\bar{x} = \\frac{1}{n} \\sum_{i=1}^n x_i$ aritmetička sredina nezavisnih, a $\\bar{y} = \\frac{1}{n} \\sum_{i=1}^n y_i$ zavisnih promenljivih."
   ]
  },
  {
   "cell_type": "code",
   "execution_count": null,
   "metadata": {},
   "outputs": [],
   "source": []
  },
  {
   "cell_type": "code",
   "execution_count": 1,
   "metadata": {},
   "outputs": [],
   "source": [
    "import numpy as np\n",
    "import pandas as pd\n",
    "from matplotlib import pyplot as plt"
   ]
  },
  {
   "cell_type": "code",
   "execution_count": null,
   "metadata": {},
   "outputs": [],
   "source": []
  },
  {
   "cell_type": "markdown",
   "metadata": {},
   "source": [
    "Pretpostavimo da raspolažemo skupom parova  $(0, 1.2)$, $(0.5, 2.05)$, $(1, 2.9)$ i $(-0.5,0.1)$ u kojima prvi element predstavlja nezavnisnu promenljivu $x$, a drugi zavisnu promenljivu $y$ i da je potrebno naći linearnu vezu oblika $y=\\beta_0+\\beta_1x$ između njih."
   ]
  },
  {
   "cell_type": "markdown",
   "metadata": {},
   "source": [
    "Za rešavanje zadataka linearne regresije mogu se koristiti funkcije koje smo upoznali u priči o rešavanju preodređenih sistema."
   ]
  },
  {
   "cell_type": "code",
   "execution_count": 2,
   "metadata": {},
   "outputs": [],
   "source": [
    "points= [(0, 1.2), (0.5, 2.05), (1, 2.9), (-0.5, 0.1)]"
   ]
  },
  {
   "cell_type": "code",
   "execution_count": null,
   "metadata": {},
   "outputs": [],
   "source": []
  },
  {
   "cell_type": "code",
   "execution_count": null,
   "metadata": {},
   "outputs": [],
   "source": []
  },
  {
   "cell_type": "code",
   "execution_count": null,
   "metadata": {},
   "outputs": [],
   "source": []
  },
  {
   "cell_type": "code",
   "execution_count": null,
   "metadata": {},
   "outputs": [],
   "source": []
  },
  {
   "cell_type": "markdown",
   "metadata": {},
   "source": [
    "Ipak, u praksi se, posebno u zadacima mašinskog učenja, mnogo češće koristi biblioteka  `scikit-learn`."
   ]
  },
  {
   "cell_type": "markdown",
   "metadata": {},
   "source": [
    "**Scikit-learn** je Python biblioteka namenjena mašinskom učenju. U njoj su implementirani mnogobrojni algoritmi klasifikacije, regresije i grupisanja, kao i rutine koje prate pripremu podataka i evaluaciju modela. Na [zvaničnom sajtu](https://scikit-learn.org/stable/) možete istražiti više o funkcionalnostima same biblioteke, a mi ćemo se u daljem radu usredsrediti na linearne modele dostupne kroz `linear_model` paket. "
   ]
  },
  {
   "cell_type": "code",
   "execution_count": null,
   "metadata": {},
   "outputs": [],
   "source": []
  },
  {
   "cell_type": "code",
   "execution_count": null,
   "metadata": {},
   "outputs": [],
   "source": []
  },
  {
   "cell_type": "code",
   "execution_count": null,
   "metadata": {},
   "outputs": [],
   "source": []
  },
  {
   "cell_type": "code",
   "execution_count": null,
   "metadata": {},
   "outputs": [],
   "source": []
  },
  {
   "cell_type": "code",
   "execution_count": null,
   "metadata": {},
   "outputs": [],
   "source": []
  },
  {
   "cell_type": "code",
   "execution_count": null,
   "metadata": {},
   "outputs": [],
   "source": []
  },
  {
   "cell_type": "code",
   "execution_count": null,
   "metadata": {},
   "outputs": [],
   "source": []
  },
  {
   "cell_type": "markdown",
   "metadata": {},
   "source": [
    "Greška modela linearne regresije može se prikazati na više načina. \n",
    "\n",
    "\n",
    "`Srednja apsolutna greška (engl. mean absolute error, MAE)` je prosečna vrednost sume apsolutnih razlika između stvarne i predviđene vrednosti, $\\text{MAE} = \\frac{1}{n}\\sum_{i=1}^n{|y_i - \\hat{y_i}|}$.\n",
    "\n",
    "`Srednjekvadratna greška (engl. mean squared error, MSE)` je prosečnoa vrednost sume kvadrata razlika između stvarne i predviđene vrednosti, $\\text{MSE} = \\frac{1}{n} \\sum_{i=1}^{n}{( y_i - \\hat{y_i})^2}$. Za nju koristimo i termin suma kvadrata reziduala (engl. residual square sum, RSS).\n",
    "\n",
    "`Koeficijent determinacija $R^2$` se račina kao $R^2= 1 - \\frac{RSS}{TSS}$, gde je $TSS = \\sum_{i=1}^{n} {(y_i-\\overline{y})^2}$ ukupna suma kvadrata razlike između stvarne i očekivane vrednosti. Što je vrednost bliža jedinici, greška je manja."
   ]
  },
  {
   "cell_type": "markdown",
   "metadata": {},
   "source": [
    "Ove vrednosti možemo izračunati korišćenjem funkcija `metrics` biblioteke `scikit-learn`."
   ]
  },
  {
   "cell_type": "code",
   "execution_count": null,
   "metadata": {},
   "outputs": [],
   "source": []
  },
  {
   "cell_type": "code",
   "execution_count": null,
   "metadata": {},
   "outputs": [],
   "source": []
  },
  {
   "cell_type": "code",
   "execution_count": null,
   "metadata": {},
   "outputs": [],
   "source": []
  },
  {
   "cell_type": "code",
   "execution_count": null,
   "metadata": {},
   "outputs": [],
   "source": []
  },
  {
   "cell_type": "code",
   "execution_count": null,
   "metadata": {},
   "outputs": [],
   "source": []
  },
  {
   "cell_type": "code",
   "execution_count": null,
   "metadata": {},
   "outputs": [],
   "source": []
  },
  {
   "cell_type": "markdown",
   "metadata": {},
   "source": [
    "U nastavku će kroz primer reklamiranja na različitim medijima (TV-u, radiju i novinama) biti prikazano kako se linearna regresija može iskoristiti za kreiranje modela koji predviđa uspešnost prodaje. "
   ]
  },
  {
   "cell_type": "markdown",
   "metadata": {},
   "source": [
    "U datoteci `advertising.csv` se nalaze informacije o cenama (izraženim u hiljadama dolara) reklamnih usluga na određenom tržištu. Prva kolona se odnosi na cene reklamiranja na televiziji, druga na radiju, a treća u novinama. Četvrta kolona se odnosi na ukupnu prodaju proizvoda koji su se reklamirali na datim medijima. Potrebno je kreirati linearni model koji predviđa prodaju na osnovu cena reklamiranja."
   ]
  },
  {
   "cell_type": "code",
   "execution_count": null,
   "metadata": {},
   "outputs": [],
   "source": []
  },
  {
   "cell_type": "code",
   "execution_count": null,
   "metadata": {},
   "outputs": [],
   "source": []
  },
  {
   "cell_type": "code",
   "execution_count": null,
   "metadata": {},
   "outputs": [],
   "source": []
  },
  {
   "cell_type": "code",
   "execution_count": null,
   "metadata": {},
   "outputs": [],
   "source": []
  },
  {
   "cell_type": "code",
   "execution_count": null,
   "metadata": {},
   "outputs": [],
   "source": []
  },
  {
   "cell_type": "code",
   "execution_count": null,
   "metadata": {},
   "outputs": [],
   "source": []
  },
  {
   "cell_type": "code",
   "execution_count": null,
   "metadata": {},
   "outputs": [],
   "source": []
  },
  {
   "cell_type": "code",
   "execution_count": null,
   "metadata": {},
   "outputs": [],
   "source": []
  },
  {
   "cell_type": "code",
   "execution_count": null,
   "metadata": {},
   "outputs": [],
   "source": []
  },
  {
   "cell_type": "code",
   "execution_count": null,
   "metadata": {},
   "outputs": [],
   "source": []
  },
  {
   "cell_type": "markdown",
   "metadata": {},
   "source": [
    "Trenutno smo sve raspoložive podatke iskoristili za kreiranje modela pa nemamo podatke na kojima objektivno možemo oceniti kako se ponaša naš model. Zato ćemo se vratiti jedan korak unazad i pre određivanja modela, podeliti podatke na skup za obučavanje modela i skup za testiranje (ocenu) modela. <img src='assets/train_test_podela.png'>"
   ]
  },
  {
   "cell_type": "markdown",
   "metadata": {},
   "source": [
    "U ovome nam može pomoći funkcija `train_test_split` dostupna u okviru paketa `model_selection` biblioteke `scikit-learn`. Njom se vrši podela skupa u željenoj razmeri (parametar `test_size`) uz kontrolu podele (parametar `random_state`)."
   ]
  },
  {
   "cell_type": "code",
   "execution_count": null,
   "metadata": {},
   "outputs": [],
   "source": []
  },
  {
   "cell_type": "code",
   "execution_count": null,
   "metadata": {},
   "outputs": [],
   "source": []
  },
  {
   "cell_type": "code",
   "execution_count": null,
   "metadata": {},
   "outputs": [],
   "source": []
  },
  {
   "cell_type": "code",
   "execution_count": null,
   "metadata": {},
   "outputs": [],
   "source": []
  },
  {
   "cell_type": "code",
   "execution_count": null,
   "metadata": {},
   "outputs": [],
   "source": []
  },
  {
   "cell_type": "code",
   "execution_count": null,
   "metadata": {},
   "outputs": [],
   "source": []
  },
  {
   "cell_type": "code",
   "execution_count": null,
   "metadata": {},
   "outputs": [],
   "source": []
  },
  {
   "cell_type": "code",
   "execution_count": null,
   "metadata": {},
   "outputs": [],
   "source": []
  },
  {
   "cell_type": "code",
   "execution_count": null,
   "metadata": {},
   "outputs": [],
   "source": []
  },
  {
   "cell_type": "markdown",
   "metadata": {},
   "source": [
    "Različitim podelama polaznog skupa na skup za treniranje i skup za tesiranje se dobijaju različiti modeli koji imaju nešto drugačije ocene (to možemo lako proveriti promenama parametra random_state). Zbog toga neke podele mogu dati ili previše optimistične ili previše stroge ocene. `Unakrsna validacija` je tehnika kojom se ovakvo ocenjivanje može iskontrolisati. Ona podrazumeva podelu polaznog skupa podataka na $k$ delova (gde je $k$ unapred izabrana vrednost) i obučavanje i testiranje ukupno $k$ modela po shemi prikazanoj na slici. <img src='assets/unakrsna_validacija.png'> \n",
    "\n",
    "Svaki model se trenira nad posebno izdvojenih $k-1$ delova (obojenih plavom bojom) i testira na preostalom delu (obojenom narandžastom bojom). Dalje se performanse ovako dobijenih modela mogu agregirati u jednu vrednosti.  "
   ]
  },
  {
   "cell_type": "markdown",
   "metadata": {},
   "source": [
    "Za evaluaciju modela tehnikom unakrsne validacije može se koristiti metod `cross_val_score`. Njegovi parametri su tip modela, ceo skup podataka i broj podela (parametar `cv`, ekvivalent broja `k`). Podrazumevano se za ocenu modela koristi srednjekvadratna greška, ali se preko parametra `scoring` može navesti i neka druga vrednost."
   ]
  },
  {
   "cell_type": "code",
   "execution_count": null,
   "metadata": {},
   "outputs": [],
   "source": []
  },
  {
   "cell_type": "code",
   "execution_count": null,
   "metadata": {},
   "outputs": [],
   "source": []
  },
  {
   "cell_type": "code",
   "execution_count": null,
   "metadata": {},
   "outputs": [],
   "source": []
  },
  {
   "cell_type": "code",
   "execution_count": null,
   "metadata": {},
   "outputs": [],
   "source": []
  },
  {
   "cell_type": "code",
   "execution_count": null,
   "metadata": {},
   "outputs": [],
   "source": []
  },
  {
   "cell_type": "code",
   "execution_count": null,
   "metadata": {},
   "outputs": [],
   "source": []
  },
  {
   "cell_type": "code",
   "execution_count": null,
   "metadata": {},
   "outputs": [],
   "source": []
  },
  {
   "cell_type": "code",
   "execution_count": null,
   "metadata": {},
   "outputs": [],
   "source": []
  }
 ],
 "metadata": {
  "kernelspec": {
   "display_name": "Python 3",
   "language": "python",
   "name": "python3"
  },
  "language_info": {
   "codemirror_mode": {
    "name": "ipython",
    "version": 3
   },
   "file_extension": ".py",
   "mimetype": "text/x-python",
   "name": "python",
   "nbconvert_exporter": "python",
   "pygments_lexer": "ipython3",
   "version": "3.7.6"
  }
 },
 "nbformat": 4,
 "nbformat_minor": 2
}
