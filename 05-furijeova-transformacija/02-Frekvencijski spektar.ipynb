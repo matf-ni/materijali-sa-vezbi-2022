{
 "cells": [
  {
   "cell_type": "markdown",
   "id": "3983d484",
   "metadata": {},
   "source": [
    "# Frekvencijski spektar"
   ]
  },
  {
   "cell_type": "markdown",
   "id": "d6de3983",
   "metadata": {},
   "source": [
    "U ovoj sveci biće sumirane osobine frekvencijskog spektra. Prvo ćemo se podsetiti pojmova kao što su frekvencijska rezolucija i maksimalna frekvencija, a potom ćemo upoznati fenomen curenja spektra i tehniku dopune nulama. "
   ]
  },
  {
   "cell_type": "code",
   "execution_count": null,
   "id": "5b9cc41c",
   "metadata": {},
   "outputs": [],
   "source": []
  },
  {
   "cell_type": "code",
   "execution_count": 1,
   "id": "6e145d88",
   "metadata": {},
   "outputs": [],
   "source": [
    "import numpy as np\n",
    "from numpy import fft \n",
    "from matplotlib import pyplot as plt\n",
    "from matplotlib import patches"
   ]
  },
  {
   "cell_type": "code",
   "execution_count": null,
   "id": "b6c71a86",
   "metadata": {},
   "outputs": [],
   "source": []
  },
  {
   "cell_type": "markdown",
   "id": "630b4798",
   "metadata": {},
   "source": [
    "Pretpostavka na kojoj je znasnovana diskretna Furijeova transformacija je da je njen ulaz `jedan` period periodičnog signala."
   ]
  },
  {
   "cell_type": "code",
   "execution_count": 2,
   "id": "bbce6ec4",
   "metadata": {},
   "outputs": [],
   "source": [
    "t = np.arange(0, 32)"
   ]
  },
  {
   "cell_type": "code",
   "execution_count": 3,
   "id": "1d78dd35",
   "metadata": {},
   "outputs": [],
   "source": [
    "N = len(t)"
   ]
  },
  {
   "cell_type": "code",
   "execution_count": 4,
   "id": "6982195c",
   "metadata": {},
   "outputs": [],
   "source": [
    "s = np.linspace(0, 1, N)"
   ]
  },
  {
   "cell_type": "code",
   "execution_count": 5,
   "id": "1a3163d8",
   "metadata": {},
   "outputs": [],
   "source": [
    "s_periodic = np.hstack([s]*4)"
   ]
  },
  {
   "cell_type": "code",
   "execution_count": 6,
   "id": "3484c61b",
   "metadata": {},
   "outputs": [
    {
     "data": {
      "image/png": "[encoded data removed]",
      "text/plain": [
       "<Figure size 1008x360 with 2 Axes>"
      ]
     },
     "metadata": {
      "needs_background": "light"
     },
     "output_type": "display_data"
    }
   ],
   "source": [
    "fig, (ax1, ax2) = plt.subplots(1, 2, figsize=(14, 5))\n",
    "\n",
    "ax1.stem(t, s)\n",
    "ax1.set_title('Osnovni signal - \\n ulaz za diskretnu Furijeovu transformaciju')\n",
    "\n",
    "ax2.stem(s_periodic)\n",
    "ax2.set_title('Periodicni signal \\n')\n",
    "\n",
    "plt.show()"
   ]
  },
  {
   "cell_type": "markdown",
   "id": "eca661ac",
   "metadata": {},
   "source": [
    "Ako je $N$ broj uzoraka signala koji su uzorkovani frekvencijom $F_s$, podsetimo se da su uzorci u vremenskom domenu na medjusobnom rastojanju $T_s=\\frac{1}{F_s}$, a u frekvencijskom domenu na rastojanju $\\Delta f = \\frac{F_s}{N}$ tj. $\\Delta f = \\frac{1}{T}$ gde je $T = N \\cdot T_s$ ukupno vreme trajanja signala. U tom smislu smo govorili o vremenskoj i frekvencijskoj rezoluciji. "
   ]
  },
  {
   "cell_type": "markdown",
   "id": "9eb9f276",
   "metadata": {},
   "source": [
    "Ukoliko je reč o uzorkovanju signala sa kompleksnim vrednostima, najveća frekvencija koja je prisutna na frekvencijskoj skali je $F_{max} = \\Delta f \\cdot {N} = Fs$. Ukoliko je reč o uzorkovanju signala sa realnim vrednostima, frekvencijski spektar je simetričan i samo prvih $\\frac{N}{2}$ podeoka nosi informacije o signalu. Zato je maksimalna frekvencija $F_{max} = \\frac{Fs}{2}$ što je i u skladu sa Najkvistovom teoremom."
   ]
  },
  {
   "cell_type": "markdown",
   "id": "56cebf91",
   "metadata": {},
   "source": [
    "Uzimajući prethodno u obzir, podeoci na frekvencijskoj skali su određeni nizom vrednosti $0$, $\\frac{Fs}{N}$, 2$\\frac{Fs}{N}$,...,$k\\frac{Fs}{N}$, ..., $(N−1)\\frac{Fs}{N}$. Prva polovina ovog niza podeoka predstavlja `pozitivne` frekvencije, a druga, zbog simentričnosti spektra, `negativne` frekvencije. Umesto ovog zapisa može se koristiti i zapis frekvencija oblika od $-\\frac{F_s}{2}$ do $\\frac{F_s}{2}$ sa nultom frekvencijom u centru. "
   ]
  },
  {
   "cell_type": "markdown",
   "id": "8a5a0ef9",
   "metadata": {},
   "source": [
    "Frekvencijsku skalu možemo manuelno generisati zadavanjem željenih granica funkciji `arange`. Možemo koristiti i bibliotečku funkciju `fftfreq`. Sa njom u vezi stoji i napomena o nešto drugačijem rasporedu frekvencija: nulta frekvencija je na početku generisane skale, za njom slede pozitivne frekvencije, a za njima i negativne frekvencije u inverznom poretku."
   ]
  },
  {
   "cell_type": "code",
   "execution_count": null,
   "id": "9b814e52",
   "metadata": {},
   "outputs": [],
   "source": []
  },
  {
   "cell_type": "markdown",
   "id": "13f1f634",
   "metadata": {},
   "source": [
    "Da bismo ispratili različite načine zapisa podeoka skale, možemo posmatrati kosinusni signal $cos(2\\pi\\cdot20\\cdot t)$ koji se uzorkuje frekvencijom 1000Hz. Možemo pretpostaviti da je uzorkovano 1000 vrednosti."
   ]
  },
  {
   "cell_type": "code",
   "execution_count": null,
   "id": "722674aa",
   "metadata": {},
   "outputs": [],
   "source": []
  },
  {
   "cell_type": "code",
   "execution_count": null,
   "id": "9db028c6",
   "metadata": {},
   "outputs": [],
   "source": []
  },
  {
   "cell_type": "code",
   "execution_count": null,
   "id": "7af407e5",
   "metadata": {},
   "outputs": [],
   "source": []
  },
  {
   "cell_type": "code",
   "execution_count": null,
   "id": "27d14ad7",
   "metadata": {},
   "outputs": [],
   "source": []
  },
  {
   "cell_type": "code",
   "execution_count": null,
   "id": "8653d425",
   "metadata": {},
   "outputs": [],
   "source": []
  },
  {
   "cell_type": "code",
   "execution_count": null,
   "id": "e138c391",
   "metadata": {},
   "outputs": [],
   "source": []
  },
  {
   "cell_type": "code",
   "execution_count": null,
   "id": "442e876b",
   "metadata": {},
   "outputs": [],
   "source": []
  },
  {
   "cell_type": "code",
   "execution_count": null,
   "id": "f31b9847",
   "metadata": {},
   "outputs": [],
   "source": []
  },
  {
   "cell_type": "code",
   "execution_count": null,
   "id": "b9042471",
   "metadata": {},
   "outputs": [],
   "source": []
  },
  {
   "cell_type": "code",
   "execution_count": null,
   "id": "61f83cd6",
   "metadata": {},
   "outputs": [],
   "source": []
  },
  {
   "cell_type": "markdown",
   "id": "3639a99d",
   "metadata": {},
   "source": [
    "## Curenje spektra"
   ]
  },
  {
   "cell_type": "markdown",
   "id": "efb232e5",
   "metadata": {},
   "source": [
    "Posmatrajmo sada kosinusni signal $cos(2\\pi\\cdot2\\cdot t)$ koji se uzorkuje frekvencijom 50Hz u trajanju od 0.8 sekundi."
   ]
  },
  {
   "cell_type": "code",
   "execution_count": null,
   "id": "49f2928c",
   "metadata": {},
   "outputs": [],
   "source": []
  },
  {
   "cell_type": "code",
   "execution_count": null,
   "id": "8ab22947",
   "metadata": {},
   "outputs": [],
   "source": []
  },
  {
   "cell_type": "code",
   "execution_count": null,
   "id": "c4532a10",
   "metadata": {},
   "outputs": [],
   "source": []
  },
  {
   "cell_type": "code",
   "execution_count": null,
   "id": "5183989c",
   "metadata": {},
   "outputs": [],
   "source": []
  },
  {
   "cell_type": "code",
   "execution_count": null,
   "id": "40813b5e",
   "metadata": {},
   "outputs": [],
   "source": []
  },
  {
   "cell_type": "code",
   "execution_count": null,
   "id": "6adbbe65",
   "metadata": {},
   "outputs": [],
   "source": []
  },
  {
   "cell_type": "code",
   "execution_count": null,
   "id": "7acc4c75",
   "metadata": {},
   "outputs": [],
   "source": []
  },
  {
   "cell_type": "code",
   "execution_count": null,
   "id": "548eb405",
   "metadata": {},
   "outputs": [],
   "source": []
  },
  {
   "cell_type": "code",
   "execution_count": null,
   "id": "83d2ad20",
   "metadata": {},
   "outputs": [],
   "source": []
  },
  {
   "cell_type": "code",
   "execution_count": null,
   "id": "85e92b95",
   "metadata": {},
   "outputs": [],
   "source": []
  },
  {
   "cell_type": "markdown",
   "id": "29d32ad8",
   "metadata": {},
   "source": [
    "## Dopuna nulama (engl. zero-padding)"
   ]
  },
  {
   "cell_type": "markdown",
   "id": "3dd34e08",
   "metadata": {},
   "source": [
    "U prethodnoj sekciji smo videli da ako ako pratimo signal koji nije ceo umnožak osnovnog perioda imamo problem sa curenjem spektra i detektovanjem prave frekvencije u frekvencijskom spektru."
   ]
  },
  {
   "cell_type": "markdown",
   "id": "8f10db1c",
   "metadata": {},
   "source": [
    "Pogledajmo šta će se dogoditi ako u prethodnom primeru uzorkovani signal dopunimo određenim brojem nula."
   ]
  },
  {
   "cell_type": "code",
   "execution_count": 7,
   "id": "31e6c1e4",
   "metadata": {},
   "outputs": [],
   "source": [
    "Fs = 50 \n",
    "f0 = 2\n",
    "T = 0.8 \n",
    "t = np.arange(0, T, 1/Fs)  \n",
    "N = len(t)"
   ]
  },
  {
   "cell_type": "markdown",
   "id": "c7849448",
   "metadata": {},
   "source": [
    "Prvo ćemo odrediti Furijeove koeficijente koristeći prave vrednosti uzorkovanog signala. "
   ]
  },
  {
   "cell_type": "code",
   "execution_count": 8,
   "id": "df7e89b6",
   "metadata": {},
   "outputs": [],
   "source": [
    "cos_t = np.cos(2*np.pi*f0*t) \n",
    "freq = np.arange(-Fs/2, Fs/2, Fs/N)  \n",
    "c = fft.fft(cos_t)\n",
    "c_shifted = fft.fftshift(c)"
   ]
  },
  {
   "cell_type": "markdown",
   "id": "7259f2bb",
   "metadata": {},
   "source": [
    "Potom ćemo odrediti Furijeove koeficijente signala koji se dobija nadovezivanjem nula na vrednosti uzorkovanog signala. U našem slučaju broj nula će biti sedam puta veći od dužine uzorkovanog signala."
   ]
  },
  {
   "cell_type": "code",
   "execution_count": null,
   "id": "97237d02",
   "metadata": {},
   "outputs": [],
   "source": []
  },
  {
   "cell_type": "code",
   "execution_count": null,
   "id": "9289e0a4",
   "metadata": {},
   "outputs": [],
   "source": []
  },
  {
   "cell_type": "code",
   "execution_count": null,
   "id": "9a402053",
   "metadata": {},
   "outputs": [],
   "source": []
  },
  {
   "cell_type": "code",
   "execution_count": null,
   "id": "48a52c42",
   "metadata": {},
   "outputs": [],
   "source": []
  },
  {
   "cell_type": "code",
   "execution_count": null,
   "id": "84ce36c7",
   "metadata": {},
   "outputs": [],
   "source": []
  },
  {
   "cell_type": "code",
   "execution_count": null,
   "id": "c17ae424",
   "metadata": {},
   "outputs": [],
   "source": []
  },
  {
   "cell_type": "code",
   "execution_count": null,
   "id": "76d114b7",
   "metadata": {},
   "outputs": [],
   "source": []
  },
  {
   "cell_type": "code",
   "execution_count": null,
   "id": "6a30cecd",
   "metadata": {},
   "outputs": [],
   "source": []
  },
  {
   "cell_type": "code",
   "execution_count": null,
   "id": "c792f944",
   "metadata": {},
   "outputs": [],
   "source": []
  },
  {
   "cell_type": "markdown",
   "id": "f0b7c906",
   "metadata": {},
   "source": [
    "Tehnika dopune nulama ne može uvek da nam pomogne u očitavanju frekvencija. Na primer, njome ne možemo postići razlikovanje dveju bliskih frekvencija u frekvencijskom spektru. Uverimo se u to primerom signala oblika $cos(2\\pi f_0 t)+cos(2\\pi f_1 t)$ za $f_0=2$ i $f_1=2.3$. Možemo pretpostaviti da se signal uzorkuje frekvencijom 50Hz u trajanju od jedne sekunde."
   ]
  },
  {
   "cell_type": "code",
   "execution_count": 9,
   "id": "c24c6ce0",
   "metadata": {},
   "outputs": [],
   "source": [
    "Fs = 50\n",
    "T = 1"
   ]
  },
  {
   "cell_type": "code",
   "execution_count": 10,
   "id": "4af22fac",
   "metadata": {},
   "outputs": [],
   "source": [
    "f0 = 2\n",
    "f1 = 2.3\n",
    "t = np.arange(0, T, 1/Fs)\n",
    "N = len(t)\n",
    "signal = lambda t: np.cos(2*np.pi*f0*t) + np.cos(2*np.pi*f1*t)"
   ]
  },
  {
   "cell_type": "code",
   "execution_count": null,
   "id": "40966b9b",
   "metadata": {},
   "outputs": [],
   "source": []
  },
  {
   "cell_type": "code",
   "execution_count": null,
   "id": "1032b73a",
   "metadata": {},
   "outputs": [],
   "source": []
  },
  {
   "cell_type": "code",
   "execution_count": null,
   "id": "dc745be2",
   "metadata": {},
   "outputs": [],
   "source": []
  },
  {
   "cell_type": "code",
   "execution_count": null,
   "id": "62c28887",
   "metadata": {},
   "outputs": [],
   "source": []
  },
  {
   "cell_type": "code",
   "execution_count": null,
   "id": "039a4c7d",
   "metadata": {},
   "outputs": [],
   "source": []
  },
  {
   "cell_type": "code",
   "execution_count": null,
   "id": "b81e0d93",
   "metadata": {},
   "outputs": [],
   "source": []
  },
  {
   "cell_type": "code",
   "execution_count": null,
   "id": "36168ebd",
   "metadata": {},
   "outputs": [],
   "source": []
  },
  {
   "cell_type": "code",
   "execution_count": null,
   "id": "085f0411",
   "metadata": {},
   "outputs": [],
   "source": []
  },
  {
   "cell_type": "code",
   "execution_count": null,
   "id": "59e9d85c",
   "metadata": {},
   "outputs": [],
   "source": []
  }
 ],
 "metadata": {
  "kernelspec": {
   "display_name": "Python 3",
   "language": "python",
   "name": "python3"
  },
  "language_info": {
   "codemirror_mode": {
    "name": "ipython",
    "version": 3
   },
   "file_extension": ".py",
   "mimetype": "text/x-python",
   "name": "python",
   "nbconvert_exporter": "python",
   "pygments_lexer": "ipython3",
   "version": "3.7.6"
  }
 },
 "nbformat": 4,
 "nbformat_minor": 5
}
