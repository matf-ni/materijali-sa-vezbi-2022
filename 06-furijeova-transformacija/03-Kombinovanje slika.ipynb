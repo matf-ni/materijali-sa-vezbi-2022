{
 "cells": [
  {
   "cell_type": "markdown",
   "metadata": {},
   "source": [
    "# Kombinovanje slika"
   ]
  },
  {
   "cell_type": "markdown",
   "metadata": {},
   "source": [
    "Furijeove transformacije se mogu koristiti i za realizaciju mnogih zanimljivih efekata nad slikama. Sledeći primer ilustruje kreiranje kombinacije slika (engl. image blending). "
   ]
  },
  {
   "cell_type": "code",
   "execution_count": 1,
   "metadata": {},
   "outputs": [],
   "source": [
    "import numpy as np\n",
    "from matplotlib import pyplot as plt"
   ]
  },
  {
   "cell_type": "code",
   "execution_count": 2,
   "metadata": {},
   "outputs": [],
   "source": [
    "from PIL import Image"
   ]
  },
  {
   "cell_type": "code",
   "execution_count": null,
   "metadata": {},
   "outputs": [],
   "source": []
  },
  {
   "cell_type": "markdown",
   "metadata": {},
   "source": [
    "Prvo ćemo koristeći PIL biblioteku učitati slike `math.jpg` i `fourie.jpg`, prebaciti ih u crno-beli mod, a potom i prikazati njihove sadržaje. "
   ]
  },
  {
   "cell_type": "code",
   "execution_count": 3,
   "metadata": {},
   "outputs": [],
   "source": [
    "image_math_original = Image.open('data/math.jpg')"
   ]
  },
  {
   "cell_type": "code",
   "execution_count": 4,
   "metadata": {},
   "outputs": [],
   "source": [
    "image_fourier_original = Image.open('data/fourier.jpg')"
   ]
  },
  {
   "cell_type": "code",
   "execution_count": null,
   "metadata": {},
   "outputs": [],
   "source": []
  },
  {
   "cell_type": "code",
   "execution_count": null,
   "metadata": {},
   "outputs": [],
   "source": []
  },
  {
   "cell_type": "code",
   "execution_count": null,
   "metadata": {},
   "outputs": [],
   "source": []
  },
  {
   "cell_type": "markdown",
   "metadata": {},
   "source": [
    "Sada ćemo napisati funkciju `blend(image1, image2, alpha)` koja kreira linearnu kombinaciju frekvencijskih spektara slika `image1` i `image2` sa koeficijentima `alpha` i `1-alpha`, a potom inverznom Furijeovom transformacijom generiše rezultujuću sliku. Preciznije, ako je `spectar1` frekvencijski spektar prve slike, a `spectar2` frekvencijski spektar druge slike, funkcija formira `alpha*spectar1+(1-alpha)*spectar2` frekvencijski spektar, a potom inverznom Furijeovom transformacijom generiše rezultujuću sliku.  "
   ]
  },
  {
   "cell_type": "code",
   "execution_count": 5,
   "metadata": {},
   "outputs": [],
   "source": [
    "def image_blend(image1, image2, alpha):\n",
    "    pass"
   ]
  },
  {
   "cell_type": "code",
   "execution_count": null,
   "metadata": {},
   "outputs": [],
   "source": []
  },
  {
   "cell_type": "code",
   "execution_count": null,
   "metadata": {},
   "outputs": [],
   "source": []
  },
  {
   "cell_type": "markdown",
   "metadata": {},
   "source": [
    "Ovaj naš eksperiment možemo osvežiti korišćenjem interaktivne slajder komponente `FloatSlider` Jupyter sveske dostupne kroz `ipywidgets` paket. Njome korisnik može lako da odabere različite vrednost parametra `alpha` za eksperimentisanje. Vrednost parametra `alpha` će biti u opsegu od 0 do 1, pomeranjem će se menjati za vrednost 0.1, a početna vrednost parametra će biti 0.5. To se redom kontroliše navedenim parametrima `min`, `max`, `step` i `value`."
   ]
  },
  {
   "cell_type": "code",
   "execution_count": 6,
   "metadata": {},
   "outputs": [],
   "source": [
    "import ipywidgets as widgets"
   ]
  },
  {
   "cell_type": "code",
   "execution_count": 7,
   "metadata": {},
   "outputs": [],
   "source": [
    "def show_image_blend(alpha):\n",
    "    blend = image_blend(image_math, image_fourier, alpha)\n",
    "    plt.imshow(blend, cmap='gray')\n",
    "    plt.axis('off')\n",
    "    plt.title('Mr. Furije with numbers')\n",
    "    plt.show()"
   ]
  },
  {
   "cell_type": "code",
   "execution_count": null,
   "metadata": {},
   "outputs": [],
   "source": [
    "widgets.interact(show_image_blend, alpha=widgets.FloatSlider(min=0, max=1, step=0.1, value=0.5))"
   ]
  },
  {
   "cell_type": "code",
   "execution_count": null,
   "metadata": {},
   "outputs": [],
   "source": []
  }
 ],
 "metadata": {
  "kernelspec": {
   "display_name": "Python 3",
   "language": "python",
   "name": "python3"
  },
  "language_info": {
   "codemirror_mode": {
    "name": "ipython",
    "version": 3
   },
   "file_extension": ".py",
   "mimetype": "text/x-python",
   "name": "python",
   "nbconvert_exporter": "python",
   "pygments_lexer": "ipython3",
   "version": "3.8.3"
  }
 },
 "nbformat": 4,
 "nbformat_minor": 4
}
