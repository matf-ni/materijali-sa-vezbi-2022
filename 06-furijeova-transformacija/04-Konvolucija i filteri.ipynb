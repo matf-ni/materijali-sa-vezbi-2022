{
 "cells": [
  {
   "cell_type": "markdown",
   "metadata": {},
   "source": [
    "# Konvolucija"
   ]
  },
  {
   "cell_type": "markdown",
   "metadata": {},
   "source": [
    "Konvolucija se može posmatrati kao kompozicija dveju funkcija od kojih jedna predstavlja signal, a druga, obično jednostavnija, filter koji se nad tim signalom primenjuje. U kontekstu obrade slika, govori se o konvoluciji matrica. Veća matrica dimenzija $m \\times n$ predstavlja signal, a filter je obično znatno manja matrica, na primer, dimenzija $3 \\times 3$. Počev od gornjeg levog ugla, filter polako klizi po matrici pokrivajući uvek deo veličine $3 \\times 3$. Kada stigne do kraja reda, filter se spusta red niže, a postupak se ponavlja sve dok se ne dostigne donji desni ugao (videti animaciju ispod). Rezultat primene konvolucije je, takođe, matrica čije vrednosti zavise od prirode filtera i operacije koja je vršena. Na primer, često se vrši množenje odgovarajućih elemenata, a zatim se te vrednosti sabiraju ili usrednjavaju."
   ]
  },
  {
   "cell_type": "markdown",
   "metadata": {},
   "source": [
    "<img src=\"assets/konvolucija.png\" width=\"400px\">"
   ]
  },
  {
   "cell_type": "markdown",
   "metadata": {},
   "source": [
    "<img src=\"assets/numerical_padding_strides.gif\" width=\"400px\">"
   ]
  },
  {
   "cell_type": "markdown",
   "metadata": {},
   "source": [
    "Pomeraj (engl. stride) predstavlja veličinu pomeraja filter matrice duž x i duž y ose. U gornjem primeru to je vrednost 1 za obe ose. Proširenje (engl. padding) predstavlja dodavanje vrsta i kolona oko polazne matrice kako bi se ispunila očekivanja u pogledu dimenzija rezultujuće matrice. U zavisnosti od efekta koji treba da se postigne dodate vrste i kolone mogu sadržati određene vrednosti ili predstavljati refleksiju prvih nekoliko vrsta ili kolona polazne matrice. "
   ]
  },
  {
   "cell_type": "code",
   "execution_count": null,
   "metadata": {},
   "outputs": [],
   "source": []
  },
  {
   "cell_type": "markdown",
   "metadata": {},
   "source": [
    "Primenom filtera se obično želi realizovati unapred definisana operacija, pa tako postoje i filteri specijalno dizajnirani za različite primene. Na primer, postoji filter za detekciju ivica, filter za izoštravanje slike, filter za zamućivanje slike i slično. Ovaj princip nalazi primenu kod konvolutivnih neuronskih mreža gde se koristi na nivou konvolutivnih slojeva za detekciju odgovarajućih karakteristika. Ovaj tip mreža s vremenom dobija na popularnosti i vrlo intenzivno se koristi u raznim zadacima, npr. u prepoznavanju objekata na slikama. Jedan zanimljiv pregled o konvolutivnim mrežama možete pronaći [ovde](https://towardsdatascience.com/a-comprehensive-guide-to-convolutional-neural-networks-the-eli5-way-3bd2b1164a53)."
   ]
  },
  {
   "cell_type": "code",
   "execution_count": null,
   "metadata": {},
   "outputs": [],
   "source": []
  },
  {
   "cell_type": "code",
   "execution_count": 1,
   "metadata": {},
   "outputs": [],
   "source": [
    "import numpy as np\n",
    "import matplotlib.pyplot as plt"
   ]
  },
  {
   "cell_type": "code",
   "execution_count": 2,
   "metadata": {},
   "outputs": [],
   "source": [
    "from PIL import Image\n",
    "from PIL import ImageFilter"
   ]
  },
  {
   "cell_type": "code",
   "execution_count": null,
   "metadata": {},
   "outputs": [],
   "source": []
  },
  {
   "cell_type": "code",
   "execution_count": 3,
   "metadata": {},
   "outputs": [],
   "source": [
    "img = Image.open('data/art.png').convert('L')"
   ]
  },
  {
   "cell_type": "code",
   "execution_count": null,
   "metadata": {},
   "outputs": [],
   "source": []
  },
  {
   "cell_type": "code",
   "execution_count": null,
   "metadata": {},
   "outputs": [],
   "source": []
  },
  {
   "cell_type": "code",
   "execution_count": null,
   "metadata": {},
   "outputs": [],
   "source": []
  },
  {
   "cell_type": "markdown",
   "metadata": {},
   "source": [
    "Za specifične efekte se dizajniraju posebni filteri. Sledeći primer ilustruje filtere kojima se može detektovati prisustvo ivica."
   ]
  },
  {
   "cell_type": "markdown",
   "metadata": {},
   "source": [
    "Konstruisaćemo tri slike predstavljene odgovarajućim *numpy* matricama dimenzija $2 \\times 2$. Svojstva koje slike treba da zadovolje su:\n",
    "\n",
    "* Prva slika treba da ima sve elemente jednake, odnosno, traba da bude jednobojna. \n",
    "* Druga slika treba da ima jednake vrednosti u prvom i jednake vrednosti u drugom redu, odnosno treba da ima dve boje i horizontalnu ivicu.\n",
    "* Treća slika treba da ima jednake vrednosti u prvoj i jednake vrednosti u drugoj koloni, odnosno treba da ima dve boje i vertikalnu ivicu."
   ]
  },
  {
   "cell_type": "code",
   "execution_count": null,
   "metadata": {},
   "outputs": [],
   "source": []
  },
  {
   "cell_type": "code",
   "execution_count": null,
   "metadata": {},
   "outputs": [],
   "source": []
  },
  {
   "cell_type": "code",
   "execution_count": null,
   "metadata": {},
   "outputs": [],
   "source": []
  },
  {
   "cell_type": "code",
   "execution_count": null,
   "metadata": {},
   "outputs": [],
   "source": []
  },
  {
   "cell_type": "code",
   "execution_count": null,
   "metadata": {},
   "outputs": [],
   "source": []
  },
  {
   "cell_type": "code",
   "execution_count": null,
   "metadata": {},
   "outputs": [],
   "source": []
  },
  {
   "cell_type": "markdown",
   "metadata": {},
   "source": [
    "`Gausov filter` (kaže se i kernel) se koristi za ujednačavanje (engl. smoothing) sadržaja slike. Jedna od matrica kojom se opisuje je $\n",
    "\\frac{1}{256}\n",
    "\\begin{bmatrix}\n",
    "1 & 4 & 6 & 4 & 1 \\\\\n",
    "4 & 16 & 24 & 16 & 4 \\\\\n",
    "6 & 24 & 36 & 24 & 6 \\\\\n",
    "4 & 16 & 24 & 16 & 4 \\\\\n",
    "1 & 4 & 6 & 4 & 1 \\\\\n",
    "\\end{bmatrix}\n",
    "$. "
   ]
  },
  {
   "cell_type": "code",
   "execution_count": 4,
   "metadata": {},
   "outputs": [],
   "source": [
    "gaussian_filter = (1/256) * np.array([\n",
    "    [1, 4, 6, 4, 1],\n",
    "    [4, 16, 24, 16, 4],\n",
    "    [6, 24, 36, 24, 6],\n",
    "    [4, 16, 24, 16, 4],\n",
    "    [1, 4, 6, 4, 1]\n",
    "])"
   ]
  },
  {
   "cell_type": "markdown",
   "metadata": {},
   "source": [
    "Sličnu funkciju ima i `filter usrednjavanja` opisan matricom $ \\frac{1}{16}\n",
    "\\begin{bmatrix}\n",
    "1 & 2 & 1 \\\\\n",
    "2 & 4 & 2 \\\\\n",
    "1 & 2 & 1 \\\\\n",
    "\\end{bmatrix}\n",
    "$."
   ]
  },
  {
   "cell_type": "code",
   "execution_count": 5,
   "metadata": {},
   "outputs": [],
   "source": [
    "averaging_filter = (1/16) * np.array([\n",
    "    [1, 2, 1], \n",
    "    [2, 4, 2], \n",
    "    [1, 2, 1]\n",
    "])"
   ]
  },
  {
   "cell_type": "code",
   "execution_count": null,
   "metadata": {},
   "outputs": [],
   "source": []
  },
  {
   "cell_type": "markdown",
   "metadata": {},
   "source": [
    "Sada možemo predefinisati funkciju `apply_filter` tako da radi nad proizvoljnom slikom i proizvoljnim filterom. Implementacija funkcije će podržavati proširenja početne slike nulama kako bi se dobila rezultujuća slika istih dimenzija. Prilikom primene filtera koristiće se pomeraj veličine 1. "
   ]
  },
  {
   "cell_type": "code",
   "execution_count": 6,
   "metadata": {},
   "outputs": [],
   "source": [
    "def apply_filter(image, filter):\n",
    "    pass"
   ]
  },
  {
   "cell_type": "code",
   "execution_count": null,
   "metadata": {},
   "outputs": [],
   "source": []
  },
  {
   "cell_type": "code",
   "execution_count": null,
   "metadata": {},
   "outputs": [],
   "source": []
  },
  {
   "cell_type": "code",
   "execution_count": null,
   "metadata": {},
   "outputs": [],
   "source": []
  },
  {
   "cell_type": "code",
   "execution_count": null,
   "metadata": {},
   "outputs": [],
   "source": []
  },
  {
   "cell_type": "code",
   "execution_count": null,
   "metadata": {},
   "outputs": [],
   "source": []
  },
  {
   "cell_type": "markdown",
   "metadata": {},
   "source": [
    "Možemo demonstrirati i transformaciju slike Sobelovim filterom koji se koristi za detekciju ivica na slikama. On je određen dvema matricama $ G_{x} = \n",
    "\\begin{bmatrix}\n",
    "-1 & 0 & 1 \\\\\n",
    "-2 & 0 & 2 \\\\\n",
    "-1 & 0 & 1 \\\\\n",
    "\\end{bmatrix}\n",
    "$ i $ G_{y} = \n",
    "\\begin{bmatrix}\n",
    "-1 & -2 & -1 \\\\\n",
    "0 & 0 & 0 \\\\\n",
    "1 & 2 & 1 \\\\\n",
    "\\end{bmatrix}\n",
    "$ koje detektuju promene intenziteta na slikama, redom, duž x i y ose. Finalna transformacija je određena sa $\\sqrt{I_x^2 + I_y^2}$ gde $I_x$ i $I_y$ predstavljaju transformacije slike dobijene duž osa."
   ]
  },
  {
   "cell_type": "code",
   "execution_count": 7,
   "metadata": {},
   "outputs": [],
   "source": [
    "sobel_x_direction_filter = np.array([\n",
    "    [-1, 0, 1],\n",
    "    [-2, 0, 2],\n",
    "    [-1, 0, 1]\n",
    "])"
   ]
  },
  {
   "cell_type": "code",
   "execution_count": 8,
   "metadata": {},
   "outputs": [],
   "source": [
    "sobel_y_direction_filter = np.array([\n",
    "    [-1, -2, -1],\n",
    "    [0, 0, 0], \n",
    "    [1, 2, 1]\n",
    "])"
   ]
  },
  {
   "cell_type": "code",
   "execution_count": 28,
   "metadata": {},
   "outputs": [],
   "source": [
    "sobel_x_transformed = apply_filter(image, sobel_x_direction_filter)\n",
    "sobel_y_transformed = apply_filter(image, sobel_y_direction_filter)"
   ]
  },
  {
   "cell_type": "code",
   "execution_count": 29,
   "metadata": {},
   "outputs": [],
   "source": [
    "image_with_sobel_filter = np.sqrt(sobel_x_transformed**2 + sobel_y_transformed**2).astype(int)"
   ]
  },
  {
   "cell_type": "code",
   "execution_count": null,
   "metadata": {},
   "outputs": [],
   "source": [
    "plt.figure(figsize=(7, 7))\n",
    "plt.axis('off')\n",
    "plt.imshow(image_with_sobel_filter, cmap='gray')\n",
    "plt.show()"
   ]
  },
  {
   "cell_type": "code",
   "execution_count": null,
   "metadata": {},
   "outputs": [],
   "source": []
  },
  {
   "cell_type": "markdown",
   "metadata": {},
   "source": [
    "Bibliotečka podrška za rad sa konvolucijom nad slikama dolazi kroz paket `signal` i njenu funkciju `convolve2d`. Funkcija osim slike i filtera očekuje parametar `mode` kojim se kontroliše proširenje i parametar `boundary` kojim se određuje priroda proširenja. "
   ]
  },
  {
   "cell_type": "code",
   "execution_count": 9,
   "metadata": {},
   "outputs": [],
   "source": [
    "from scipy import signal"
   ]
  },
  {
   "cell_type": "code",
   "execution_count": null,
   "metadata": {},
   "outputs": [],
   "source": []
  },
  {
   "cell_type": "code",
   "execution_count": null,
   "metadata": {},
   "outputs": [],
   "source": []
  },
  {
   "cell_type": "code",
   "execution_count": null,
   "metadata": {},
   "outputs": [],
   "source": []
  },
  {
   "cell_type": "code",
   "execution_count": null,
   "metadata": {},
   "outputs": [],
   "source": []
  }
 ],
 "metadata": {
  "kernelspec": {
   "display_name": "Python 3",
   "language": "python",
   "name": "python3"
  },
  "language_info": {
   "codemirror_mode": {
    "name": "ipython",
    "version": 3
   },
   "file_extension": ".py",
   "mimetype": "text/x-python",
   "name": "python",
   "nbconvert_exporter": "python",
   "pygments_lexer": "ipython3",
   "version": "3.8.3"
  }
 },
 "nbformat": 4,
 "nbformat_minor": 2
}
