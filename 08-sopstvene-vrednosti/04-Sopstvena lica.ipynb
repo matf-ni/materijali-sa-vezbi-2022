{
 "cells": [
  {
   "cell_type": "markdown",
   "metadata": {},
   "source": [
    "# Sopstvena lica"
   ]
  },
  {
   "cell_type": "markdown",
   "metadata": {},
   "source": [
    "U ovoj sveci bavićemo se problemom prepoznavanja osoba na zadatim slikama."
   ]
  },
  {
   "cell_type": "code",
   "execution_count": 1,
   "metadata": {},
   "outputs": [],
   "source": [
    "import numpy as np\n",
    "from matplotlib import pyplot as plt"
   ]
  },
  {
   "cell_type": "code",
   "execution_count": 2,
   "metadata": {},
   "outputs": [],
   "source": [
    "from sklearn import preprocessing\n",
    "from sklearn import datasets\n",
    "from sklearn import decomposition\n",
    "from sklearn import model_selection"
   ]
  },
  {
   "cell_type": "markdown",
   "metadata": {},
   "source": [
    "## Učitavanje skupa podataka"
   ]
  },
  {
   "cell_type": "markdown",
   "metadata": {},
   "source": [
    "Koristićemo skup slika `Labeled Faces in the Wild` koji sadrži slike lica poznatih ličnosti. Podaci se mogu učitati pozivom funkcije `fetch_lfw_people()` paketa `sklearn.datasets`. Prilikom poziva ove funkcije iskoristićemo parametar `resize` koji određuje skaliranje slika i parametar `min_faces_per_person` koji određuje koliko najmanje slika po osobi treba da ima u učitanom skupu. "
   ]
  },
  {
   "cell_type": "code",
   "execution_count": null,
   "metadata": {},
   "outputs": [],
   "source": []
  },
  {
   "cell_type": "code",
   "execution_count": null,
   "metadata": {},
   "outputs": [],
   "source": []
  },
  {
   "cell_type": "code",
   "execution_count": null,
   "metadata": {},
   "outputs": [],
   "source": []
  },
  {
   "cell_type": "code",
   "execution_count": null,
   "metadata": {},
   "outputs": [],
   "source": []
  },
  {
   "cell_type": "code",
   "execution_count": null,
   "metadata": {},
   "outputs": [],
   "source": []
  },
  {
   "cell_type": "code",
   "execution_count": null,
   "metadata": {},
   "outputs": [],
   "source": []
  },
  {
   "cell_type": "code",
   "execution_count": null,
   "metadata": {},
   "outputs": [],
   "source": []
  },
  {
   "cell_type": "code",
   "execution_count": null,
   "metadata": {},
   "outputs": [],
   "source": []
  },
  {
   "cell_type": "code",
   "execution_count": null,
   "metadata": {},
   "outputs": [],
   "source": []
  },
  {
   "cell_type": "markdown",
   "metadata": {},
   "source": [
    "## Klasifikacija primenom algoritma k-najbližih suseda"
   ]
  },
  {
   "cell_type": "markdown",
   "metadata": {},
   "source": [
    "Rešavanju problema prepoznavanja osoba na slikama možemo pristupiti kao klasifikacionom zadatku uz adekvatno prikazivanje slika skupom odgovarajućih atributa. Koristićemo algoritam klasifikacije koji se zove $k$ najbližih suseda."
   ]
  },
  {
   "cell_type": "markdown",
   "metadata": {},
   "source": [
    "Algoritam $k$ najbližih suseda ćemo najlakše predstaviti preko primera sa donje slike. Zadatak je klasifikovati zeleni objekat u jednu od dve klase; treba odrediti da li krug pripada plavim kvadratima ili crvenim trouglovima. Ako je $k = 3$ (manji krug nacrtan punom linijom), zeleni krug će pripadati drugoj klasi zato što se unutar nacrtanog kruga nalaze dva trougla i samo jedan kvadrat. Ako je $k = 5$ (veći krug nacrtan isprekidanom linijom), zeleni krug će pripadati prvoj klasi budući da se unutar isprekidanog kruga nalazi više kvadrata nego trouglova."
   ]
  },
  {
   "cell_type": "markdown",
   "metadata": {},
   "source": [
    "<img src=\"assets/knn.png\">"
   ]
  },
  {
   "cell_type": "markdown",
   "metadata": {},
   "source": [
    "Koliko će se suseda posmatrati (vrednost parametra $k$) i kako će se oni određivati (izbor metrike) se kontroliše preko parametara samog klasifikatora. Obeležje novoj instanci će se uvek pridruživati na osnovu obeležja najbrojnije klase u susedstvu."
   ]
  },
  {
   "cell_type": "markdown",
   "metadata": {},
   "source": [
    "Dalje ćemo primeniti algoritam $k$ najbližig suseda i izračunati tačnost. Podrška za rad sa algoritmom najbližih suseda je stavljena na raspolaganje preko `KNeighborsClassifier` klase paketa `sklearn.neighbors`. Broj suseda `n_neighbors` ćemo podesiti na 5, a funkciju rastojanja na euklidsku."
   ]
  },
  {
   "cell_type": "code",
   "execution_count": null,
   "metadata": {},
   "outputs": [],
   "source": [
    "from sklearn import neighbors"
   ]
  },
  {
   "cell_type": "code",
   "execution_count": null,
   "metadata": {},
   "outputs": [],
   "source": []
  },
  {
   "cell_type": "code",
   "execution_count": null,
   "metadata": {},
   "outputs": [],
   "source": []
  },
  {
   "cell_type": "code",
   "execution_count": null,
   "metadata": {},
   "outputs": [],
   "source": []
  },
  {
   "cell_type": "code",
   "execution_count": null,
   "metadata": {},
   "outputs": [],
   "source": []
  },
  {
   "cell_type": "code",
   "execution_count": null,
   "metadata": {},
   "outputs": [],
   "source": []
  },
  {
   "cell_type": "code",
   "execution_count": null,
   "metadata": {},
   "outputs": [],
   "source": []
  },
  {
   "cell_type": "code",
   "execution_count": null,
   "metadata": {},
   "outputs": [],
   "source": []
  },
  {
   "cell_type": "markdown",
   "metadata": {},
   "source": [
    "## Klasifikacija primenom PCA tehnike i algoritma k-najbližih suseda "
   ]
  },
  {
   "cell_type": "markdown",
   "metadata": {},
   "source": [
    "Sada ćemo primeniti isti algoritam, ali ćemo smanjiti dimenzionalnost prostora koristeći PCA tehniku. Broj glavnih komponenti ćemo postaviti na 100."
   ]
  },
  {
   "cell_type": "code",
   "execution_count": null,
   "metadata": {},
   "outputs": [],
   "source": []
  },
  {
   "cell_type": "code",
   "execution_count": null,
   "metadata": {},
   "outputs": [],
   "source": []
  },
  {
   "cell_type": "code",
   "execution_count": null,
   "metadata": {},
   "outputs": [],
   "source": []
  },
  {
   "cell_type": "code",
   "execution_count": null,
   "metadata": {},
   "outputs": [],
   "source": []
  },
  {
   "cell_type": "code",
   "execution_count": null,
   "metadata": {},
   "outputs": [],
   "source": []
  },
  {
   "cell_type": "code",
   "execution_count": null,
   "metadata": {},
   "outputs": [],
   "source": []
  },
  {
   "cell_type": "code",
   "execution_count": null,
   "metadata": {},
   "outputs": [],
   "source": []
  },
  {
   "cell_type": "code",
   "execution_count": null,
   "metadata": {},
   "outputs": [],
   "source": []
  },
  {
   "cell_type": "code",
   "execution_count": null,
   "metadata": {},
   "outputs": [],
   "source": []
  },
  {
   "cell_type": "code",
   "execution_count": null,
   "metadata": {},
   "outputs": [],
   "source": []
  },
  {
   "cell_type": "markdown",
   "metadata": {},
   "source": [
    "U nastavku će biti prikazano kako izgleda prvih nekoliko glavnih komponenti PCA tehnike. Prikazaćemo 20 glavnih komponenti u vidu bloka dimenzija 4x5."
   ]
  },
  {
   "cell_type": "code",
   "execution_count": null,
   "metadata": {},
   "outputs": [],
   "source": [
    "# svakom od 20 grafika/slika sklonićemo oznake za x-osu i y-osu\n",
    "figure, axis = plt.subplots(4, 5, figsize=(16, 16), subplot_kw={'xticks':(), 'yticks':()})\n",
    "\n",
    "# kroz ovaj skup blokva ćemo prolaziti iterativno \n",
    "# svešćemo ga na jednodimenzioni niz pozivom funkcije ravel() \n",
    "ravel = axis.ravel()\n",
    "\n",
    "# dalje, za svaki blok\n",
    "for i in range(ravel.shape[0]):\n",
    "    \n",
    "    # izdvajamo osu za rad\n",
    "    axis = ravel[i]\n",
    "    \n",
    "    # izdvajamo i-tu komponentu i svodimo je na dimenzije slike\n",
    "    component = pca.components_[i]\n",
    "    component = component.reshape(image_shape)\n",
    "    \n",
    "    # prikazujemo sliku i naziv komponente\n",
    "    axis.imshow(component, cmap='gray')\n",
    "    axis.set_title('Komponenta {0}'.format(i+1))"
   ]
  },
  {
   "cell_type": "markdown",
   "metadata": {},
   "source": [
    "Vidimo da se različite komponente fokusiraju na različite karakteristike lica kao što su oblik lica, položaj glave, predeo očiju i nosa, i slično. Ovo svakako može biti informativno u interpretaciji i analizi rada modela."
   ]
  },
  {
   "cell_type": "code",
   "execution_count": null,
   "metadata": {},
   "outputs": [],
   "source": []
  },
  {
   "cell_type": "code",
   "execution_count": null,
   "metadata": {},
   "outputs": [],
   "source": []
  },
  {
   "cell_type": "code",
   "execution_count": null,
   "metadata": {},
   "outputs": [],
   "source": []
  },
  {
   "cell_type": "code",
   "execution_count": null,
   "metadata": {},
   "outputs": [],
   "source": []
  },
  {
   "cell_type": "code",
   "execution_count": null,
   "metadata": {},
   "outputs": [],
   "source": []
  },
  {
   "cell_type": "code",
   "execution_count": null,
   "metadata": {},
   "outputs": [],
   "source": []
  },
  {
   "cell_type": "code",
   "execution_count": null,
   "metadata": {},
   "outputs": [],
   "source": []
  },
  {
   "cell_type": "code",
   "execution_count": null,
   "metadata": {},
   "outputs": [],
   "source": []
  },
  {
   "cell_type": "code",
   "execution_count": null,
   "metadata": {},
   "outputs": [],
   "source": []
  },
  {
   "cell_type": "code",
   "execution_count": null,
   "metadata": {},
   "outputs": [],
   "source": []
  }
 ],
 "metadata": {
  "kernelspec": {
   "display_name": "Python 3",
   "language": "python",
   "name": "python3"
  },
  "language_info": {
   "codemirror_mode": {
    "name": "ipython",
    "version": 3
   },
   "file_extension": ".py",
   "mimetype": "text/x-python",
   "name": "python",
   "nbconvert_exporter": "python",
   "pygments_lexer": "ipython3",
   "version": "3.7.6"
  }
 },
 "nbformat": 4,
 "nbformat_minor": 2
}
